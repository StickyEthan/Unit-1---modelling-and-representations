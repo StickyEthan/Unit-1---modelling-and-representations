{
 "cells": [
  {
   "cell_type": "markdown",
   "id": "6e0fd02e",
   "metadata": {
    "slideshow": {
     "slide_type": "slide"
    }
   },
   "source": [
    "# Unit 1 - Modelling and Representations of Systems\n",
    "# Part 2 - Laplace Transforms, Transfer Functions and S-Plane Plots\n",
    "\n",
    "- Modelling of electrical and mechanical systems\n",
    "    - Electric circuits with resistors, capacitors, inductors, op-amps\n",
    "    - Translational mechanical systems\n",
    "    - Rotational mechanical systems\n",
    "- Simulation of a system\n",
    "    - Response due to initial conditions\n",
    "    - Step response\n",
    "    - Response to any input\n",
    "- Representations\n",
    "    - Differential equation\n",
    "    - Transfer function\n",
    "- Characteristics of a system\n",
    "    - Settling Time\n",
    "    - Maximum overshoot\n",
    "    - Rise time\n",
    "    - Stability\n",
    "- Key Concepts\n",
    "    - Poles\n",
    "    - Zeros\n",
    "- Plots\n",
    "    - Time domain response\n",
    "    - S-Plane"
   ]
  },
  {
   "cell_type": "markdown",
   "id": "1353a4dd",
   "metadata": {
    "slideshow": {
     "slide_type": "fragment"
    }
   },
   "source": [
    "Required Viewing before this lecture:\n",
    "- video series on transient response\n",
    "\n",
    "Chapters in the textbook: Chapter 5"
   ]
  },
  {
   "cell_type": "markdown",
   "id": "721933f6",
   "metadata": {
    "slideshow": {
     "slide_type": "slide"
    }
   },
   "source": [
    "# From previous part:\n",
    "\n",
    "Solving differential equations in time domain is tedious, however, we could do it. \n",
    "\n",
    "On the other hand over time people have come up with helpful tools that either:\n",
    "- simplify the task of solving differential equations (for example: Laplace)\n",
    "- give extra insight (for example: Fourier)\n",
    "- or both! \n",
    "\n",
    "Key insight from transfer function representation:\n",
    "- poles/zeros of a system"
   ]
  },
  {
   "cell_type": "markdown",
   "id": "045d72dc",
   "metadata": {
    "slideshow": {
     "slide_type": "slide"
    }
   },
   "source": [
    "# Consider same example as last part\n",
    "\n",
    "![1 Disk Graphic Diagram](1diskSimpleGraphic.png \"1 Disk Graphic Diagram\")\n",
    "​\n",
    "A torque is applied to a thin flexible rod. A disk is attached to the rod. The rod is supported by bearings on the left side of the disk. The angular position of the rod at both ends is measured. \n",
    "​\n",
    "We will:\n",
    "- Derive the transfer function between angular position of the rod at the left side ($\\theta_1$) and angular position of the rod at the right side ($\\theta_2$),\n",
    "- Analyze pole-zero map, \n",
    "- Analyze step response of system,\n",
    "- See how to simulate the output of the system for any input using Python.\n",
    "​\n",
    "# Schematic Diagram \n",
    "![1 Disk Schematic Diagram](1diskSimpleSchematic.png \"1 Disk Schematic Diagram\")\n",
    "\n",
    "# Free Body Diagram\n",
    "![1 Disk Free Body Diagram](1diskSimpleFreeBody.png \"1 Disk Free Body Diagram\")\n",
    "\n",
    "Governing differential equation that we derived in previous part:\n",
    "$$\n",
    "\\begin{align*}\n",
    "k \\theta_1 = J \\frac{\\text{d}^2 \\theta_2}{\\text{dt}^2} + b \\frac{\\text{d} \\theta_2}{\\text{dt}} + k \\theta_2\n",
    "\\end{align*}\n",
    "$$"
   ]
  },
  {
   "cell_type": "markdown",
   "id": "0171d159",
   "metadata": {
    "slideshow": {
     "slide_type": "fragment"
    }
   },
   "source": [
    "Recall the following properties of the Laplace transform:\n",
    "$$\n",
    "\\begin{align*}\n",
    "\\mathcal{L}[f'(t)] &= sF(s) - f(0) \\\\\n",
    "\\mathcal{L}[f''(t)] &= s^2F(s) -sf(0) - f(0)'\n",
    "\\end{align*}\n",
    "$$\n",
    "        \n",
    "# In Class Activity!\n",
    "\n",
    "Using these properties, take the Laplace transform the governing differential equation that we derived earlier:\n",
    "$$\n",
    "\\begin{align*}\n",
    "\\mathcal{L}[ k \\theta_1 ] = \\mathcal{L}[ J \\frac{\\text{d}^2 \\theta_2}{\\text{dt}^2} + b \\frac{\\text{d} \\theta_2}{\\text{dt}} + k \\theta_2]\n",
    "\\end{align*}\n",
    "$$\n",
    "\n",
    "Gather $\\Theta_1(s)$ and $\\Theta_2(s)$ terms."
   ]
  },
  {
   "cell_type": "markdown",
   "id": "93b47cb9",
   "metadata": {
    "slideshow": {
     "slide_type": "fragment"
    }
   },
   "source": [
    "Take Laplace transform of both sides:\n",
    "$$\n",
    "\\begin{align*}\n",
    "\\mathcal{L}[k \\theta_1(t)] &= \\mathcal{L}\\Big[ J \\frac{\\text{d}^2 \\theta_2(t)}{\\text{dt}^2} + b \\frac{\\text{d} \\theta_2(t)}{\\text{dt}} + k \\theta_2(t) \\Big] \\\\\n",
    "k \\Theta_1(s) &= J s^2 \\Theta_2(s) + b s \\Theta_2(s) + k \\Theta_2(s) - J s \\theta_2(0) -J \\theta_2'(0) - k \\theta_2(0)\n",
    "\\end{align*}\n",
    "$$\n",
    "Gather terms and find expression for $\\Theta_2(s)$:\n",
    "$$\n",
    "\\begin{align*}\n",
    "\\Theta_2(s) = \\underbrace{\\frac{k}{Js^2 + bs+k}}_{\\text{Transfer Function}}\\Theta_1(s) + \\underbrace{\\frac{Js\\theta_2(0) + J \\theta_2'(0) + k \\theta_2(0)}{Js^2 + bs+k}}_{\\text{Response due to initial conditions}}\n",
    "\\end{align*}\n",
    "$$"
   ]
  },
  {
   "cell_type": "markdown",
   "id": "ae10f352",
   "metadata": {
    "slideshow": {
     "slide_type": "fragment"
    }
   },
   "source": [
    "# Poles and Zeros of a Transfer Function\n",
    "\n",
    "Can factor numerator and denominator of transfer function:\n",
    "\n",
    "$$\n",
    "\\begin{align*}\n",
    "G(s) &= \\frac{b_0 s^n + b_1 s^{n-1} + \\cdots + b_{n-1} s + b_{n}}{s^n + a_1s^{n-1} + \\cdots + a_{n-1} s + a_{n}} \\\\\n",
    "&= \\frac{ b_0( s + z_1 )(s + z_2) + \\cdots + (s+z_n) }{(s+p_1)(s+p_2) \\cdots (s+p_n)}\n",
    "\\end{align*}\n",
    "$$\n",
    "\n",
    "where \n",
    "- $z_1$, $\\ldots$, $z_n$ are the zeros of the transfer function and,\n",
    "- $p_1$, $\\dots,$, $p_n$ are the poles of the transfer function.\n"
   ]
  },
  {
   "cell_type": "markdown",
   "id": "57ee030f",
   "metadata": {
    "slideshow": {
     "slide_type": "fragment"
    }
   },
   "source": [
    "# What do the poles mean? What do they represent?\n",
    "\n",
    "To me it is not very informative to simply say \"poles are the points in the s-plane where the transfer function blows up to $\\infty$\"... There should be a deeper or more tangible meaning.\n",
    "\n",
    "In order to discover this meaning, let's take the partial fraction expansion of $G(s)$:\n",
    "\n",
    "$$\n",
    "\\begin{align*}\n",
    "G(s) = \\sum_{k=1}^n \\frac{c_k}{s+p_k},\n",
    "\\end{align*}\n",
    "$$\n",
    "\n",
    "Take the inverse Laplace transform:\n",
    "$$\n",
    "\\begin{align*}\n",
    "g(t) &= \\sum_{k=1}^n c_k e^{-p_kt} \\\\\n",
    "\\end{align*}\n",
    "$$\n",
    "\n",
    "What do you notice? When we solved the system in time-domain directly, the general solution of the differential equation was always of the form \n",
    "$$\n",
    "\\begin{align*}\n",
    "g(t) &= \\sum_{k=1}^n c_k e^{-p_kt} \\\\\n",
    "\\end{align*}\n",
    "$$\n",
    "which is exactly the same as above. Recall that to construct the general solution, we selected $p_k$ based on the characteristic equation of the differential equation. \n",
    "\n",
    "So now we can say that the poles of the system are the exact same as the solutions to the characteristic equation of the differential equation! That is an interesting connection!\n",
    "\n",
    "We will see in the remainder of this lecture that the poles determine many characteristics of a system. \n",
    "\n"
   ]
  },
  {
   "cell_type": "markdown",
   "id": "5041a1e6",
   "metadata": {
    "slideshow": {
     "slide_type": "fragment"
    }
   },
   "source": [
    "In this lecture we will learn about 2 types of plots that illustrate various characteristics about a system:\n",
    "    - Step Response plot\n",
    "    - S-plane plot"
   ]
  },
  {
   "cell_type": "markdown",
   "id": "4f9525d1",
   "metadata": {
    "slideshow": {
     "slide_type": "slide"
    }
   },
   "source": [
    "# First Type of Plot: Step Response\n",
    "\n",
    "Let the input, in this case $\\theta_1(t)$, be a step. \n",
    "\n",
    "Step function defined as:\n",
    "$$\n",
    "\\begin{align*}\n",
    "1(t) = \\begin{cases}\n",
    "0 & \\text{if $t\\le0$}, \\\\\n",
    "1 & \\text{if $t>0$}.\n",
    "\\end{cases}\n",
    "\\end{align*}\n",
    "$$\n",
    "\n",
    "What is the Laplace transform of a step? \n"
   ]
  },
  {
   "cell_type": "markdown",
   "id": "67c9c367",
   "metadata": {
    "slideshow": {
     "slide_type": "fragment"
    }
   },
   "source": [
    "$$\n",
    "\\begin{align*}\n",
    "\\mathcal{L}[1(t)] = \\frac{1}{s}\n",
    "\\end{align*}\n",
    "$$"
   ]
  },
  {
   "cell_type": "markdown",
   "id": "3c4ed2d1",
   "metadata": {
    "slideshow": {
     "slide_type": "fragment"
    }
   },
   "source": [
    "# In Class Activity!\n",
    "\n",
    "- Read and understand the following code. \n",
    "- Modify the parameters of the system and compare the step response. \n",
    "    - What happens when you increase the spring constant? \n",
    "    - What happens when you increase the inertia?\n",
    "    - What happens when you increase the damping?\n"
   ]
  },
  {
   "cell_type": "code",
   "execution_count": 1,
   "id": "75609d62",
   "metadata": {
    "slideshow": {
     "slide_type": "fragment"
    }
   },
   "outputs": [],
   "source": [
    "import scipy as sp\n",
    "import numpy as np\n",
    "import matplotlib.pyplot as plt\n",
    "import math"
   ]
  },
  {
   "cell_type": "code",
   "execution_count": 2,
   "id": "150364e1",
   "metadata": {
    "slideshow": {
     "slide_type": "fragment"
    }
   },
   "outputs": [
    {
     "data": {
      "image/png": "[encoded data removed]",
      "text/plain": [
       "<Figure size 640x480 with 1 Axes>"
      ]
     },
     "metadata": {},
     "output_type": "display_data"
    }
   ],
   "source": [
    "def eval_poly(poly, k):\n",
    "    n = poly.shape[0] - 1\n",
    "\n",
    "    p_at_k = 0\n",
    "    for ii in range(n+1):\n",
    "        p_at_k += poly[ii]*k**(n-ii)\n",
    "    \n",
    "    return p_at_k\n",
    "\n",
    "\n",
    "def enel441_partial_fraction_expansion(num, den):\n",
    "    ## returns partial fraction expansion. This function cannot deal with repeated poles. It will fail in that case.\n",
    "\n",
    "    poles = np.roots(den)\n",
    "    num_poles = poles.shape[0]\n",
    "    coeff = np.zeros(num_poles, dtype=np.csingle)\n",
    "\n",
    "    for ii in range(num_poles):\n",
    "        nn = eval_poly(num, poles[ii])\n",
    "        dd = 1\n",
    "        for jj in range(num_poles):\n",
    "            if ii != jj:\n",
    "                dd *= (poles[ii] - poles[jj])\n",
    "        \n",
    "        coeff[ii] = nn/dd\n",
    "    return poles, coeff\n",
    "            \n",
    "            \n",
    "def enel441_step_response(num, den, t):\n",
    "    poles, coefficients = enel441_partial_fraction_expansion(num, den)\n",
    "\n",
    "    # Plot the step reponse (assume initial conditions are zero)\n",
    "    N = t.shape[0]\n",
    "    out_step = np.zeros(N, dtype=np.csingle)\n",
    "    for ii in range(poles.shape[0]):\n",
    "        out_step += coefficients[ii]*np.exp(poles[ii]*t)\n",
    "    \n",
    "    fig, ax = plt.subplots(1,1)\n",
    "    ax.plot(t,out_step.real, label='Step Response')\n",
    "    ax.set_title(r'Step response')\n",
    "    ax.set_xlabel('Time (s)')\n",
    "\n",
    "    plt.xlim(t[0], t[-1])\n",
    "    return fig, ax, np.real(out_step)\n",
    "\n",
    "\n",
    "\n",
    "# set system parameters\n",
    "J = 1 \n",
    "k = 2\n",
    "b = 1\n",
    "\n",
    "# construct arrays to define numerator and denominator. Use powers of s: a_3s^3 + a_2s^2 + a_1s + a_0 \n",
    "# corresponds to array: [a_3, a_2, a_1, a_0]\n",
    "num = np.array([k])\n",
    "den = np.array([J, b, k, 0]) # Note the extra 0! Why is it there?\n",
    "\n",
    "# generate the data\n",
    "N = 10000   #number of points\n",
    "Tf = 20     #time in seconds of simulation\n",
    "t = np.linspace(0,Tf,N)\n",
    "\n",
    "fig, ax, theta_2 = enel441_step_response(num, den, t)"
   ]
  },
  {
   "cell_type": "markdown",
   "id": "8e2a970d",
   "metadata": {
    "slideshow": {
     "slide_type": "slide"
    }
   },
   "source": [
    "# Characteristics of a step response (Transient Response)\n",
    "\n",
    "![Step Response Characteristics](step-response.png \"Step Response Characteristics\")"
   ]
  },
  {
   "cell_type": "markdown",
   "id": "563837c8",
   "metadata": {
    "slideshow": {
     "slide_type": "fragment"
    }
   },
   "source": [
    "# In Class Activity!\n",
    "- add a function that calculates and plots the rise time\n",
    "- add a function that calculates and plot the maximum overshoot\n",
    "- add a function that draws (approximate) bounds on the settling time\n",
    "- add a function that calculates the settling time"
   ]
  },
  {
   "cell_type": "code",
   "execution_count": 4,
   "id": "204050f6",
   "metadata": {
    "slideshow": {
     "slide_type": "fragment"
    }
   },
   "outputs": [
    {
     "name": "stdout",
     "output_type": "stream",
     "text": [
      "Rise Time = 0.24802480248024805s\n",
      "Peak Time = 0.7060706070607061s\n",
      "Peak Overshoot = 70.23053169250488%\n",
      "Settling Time = 7.8267826782678265s\n"
     ]
    },
    {
     "data": {
      "image/png": "[encoded data removed]",
      "text/plain": [
       "<Figure size 640x480 with 1 Axes>"
      ]
     },
     "metadata": {},
     "output_type": "display_data"
    }
   ],
   "source": [
    "import numpy as np\n",
    "\n",
    "# set system parameters\n",
    "J = 1 \n",
    "k = 20\n",
    "b = 1\n",
    "\n",
    "# construct arrays to define numerator and denominator. Use powers of s: a_3s^3 + a_2s^2 + a_1s + a_0 \n",
    "# corresponds to array: [a_3, a_2, a_1, a_0]\n",
    "num = np.array([k])\n",
    "den = np.array([J, b, k, 0])\n",
    "\n",
    "# generate the data\n",
    "N = 10000   #number of points\n",
    "Tf = 20     #time in seconds of simulation\n",
    "t = np.linspace(0,Tf,N)\n",
    "\n",
    "fig, ax, theta_2 = enel441_step_response(num, den, t)\n",
    "\n",
    "def calc_rise_time(t, out_step, ax):\n",
    "    final_value = out_step[-1]\n",
    "    \n",
    "    # add your code here to calculate the following variables\n",
    "    final_value = out_step[-1]\n",
    "    \n",
    "    ii = 0\n",
    "    while out_step[ii] < final_value*0.1:\n",
    "        ii += 1\n",
    "    \n",
    "    start_index = ii\n",
    "    \n",
    "    while out_step[ii] < final_value*0.9:\n",
    "        ii += 1\n",
    "        \n",
    "    end_index = ii\n",
    "    \n",
    "    rise_time = t[end_index] - t[start_index]\n",
    "    \n",
    "    ax.plot(t[start_index], out_step[start_index], 'k.')\n",
    "    ax.plot(t[end_index], out_step[end_index], 'k.')\n",
    "    \n",
    "    # uncomment to add annotations (when your function is ready)\n",
    "    ax.plot([t[0], t[start_index]], [out_step[start_index], out_step[start_index]], 'k:')\n",
    "    ax.plot([t[start_index], t[start_index]], [out_step[start_index], 0], 'k:')\n",
    "    ax.plot([t[0], t[end_index]], [out_step[end_index], out_step[end_index]], 'k:')\n",
    "    ax.plot([t[end_index], t[end_index]], [out_step[end_index], 0], 'k:')\n",
    "    \n",
    "    ax.arrow(t[start_index], out_step[start_index], rise_time, 0, head_length = 0.1, head_width = 0.025, length_includes_head = True )\n",
    "    ax.arrow(t[end_index], out_step[start_index], -rise_time, 0, head_length = 0.1, head_width = 0.025, length_includes_head = True )\n",
    "    \n",
    "    ax.text(t[start_index] + rise_time/2, out_step[start_index] + 0.05, 'Tr', horizontalalignment='center')\n",
    "    return rise_time\n",
    "\n",
    "\n",
    "def calc_peak_overshoot(t, out_step, ax):\n",
    "    final_value = out_step[-1]\n",
    "    \n",
    "    # add your code here to calculate the following variables\n",
    "    index_peak_overshoot = np.argmax(out_step)\n",
    "    peak_overshoot = out_step[index_peak_overshoot]\n",
    "    peak_overshoot_percent = (peak_overshoot-final_value)/final_value*100\n",
    "        \n",
    "    ax.plot(t[index_peak_overshoot], peak_overshoot, 'k.')\n",
    "    \n",
    "    #uncomment to add annotations (when your function is ready)\n",
    "    ax.plot([t[0], t[-1]], [final_value, final_value], 'k:')\n",
    "    ax.plot([t[0], t[index_peak_overshoot]], [peak_overshoot, peak_overshoot], 'k:')\n",
    "    ax.plot([t[index_peak_overshoot], t[index_peak_overshoot]], [peak_overshoot, 0], 'k:')\n",
    "    \n",
    "    ax.arrow(t[index_peak_overshoot], final_value, 0, peak_overshoot-final_value, head_length = 0.1, head_width = 0.025, length_includes_head = True )\n",
    "    ax.arrow(t[index_peak_overshoot], peak_overshoot, 0, -peak_overshoot+final_value, head_length = 0.1, head_width = 0.025, length_includes_head = True )\n",
    "    \n",
    "    ax.text(t[index_peak_overshoot], final_value + (peak_overshoot-final_value)/2, 'PO', verticalalignment='center')\n",
    "    \n",
    "    return t[index_peak_overshoot], peak_overshoot_percent\n",
    "\n",
    "\n",
    "\n",
    "def calc_settling_time(t, out_step, ax):\n",
    "    final_value = out_step[-1]\n",
    "    \n",
    "    # add your code here to calculate the following variables\n",
    "    ii = t.shape[0] - 1\n",
    "    while out_step[ii] < 1.02*final_value and out_step[ii] > 0.98*final_value:\n",
    "        ii -= 1\n",
    "    \n",
    "    index_settling_time = ii   \n",
    "    \n",
    "    \n",
    "    ax.plot(t[index_settling_time], out_step[index_settling_time], 'k.')\n",
    "    \n",
    "    #uncomment to add annotations (when your function is ready)\n",
    "    ax.plot([t[0], t[-1]], [0.98*final_value, 0.98*final_value], 'k:')\n",
    "    ax.plot([t[0], t[-1]], [1.02*final_value, 1.02*final_value], 'k:')\n",
    "    if out_step[index_settling_time] > final_value:\n",
    "        ax.text(t[index_settling_time], out_step[index_settling_time], 'Ts', verticalalignment='bottom')\n",
    "    else:\n",
    "        ax.text(t[index_settling_time], out_step[index_settling_time], 'Ts', verticalalignment='top')\n",
    "    \n",
    "    return t[index_settling_time]\n",
    "\n",
    "\n",
    "\n",
    "rise_time = calc_rise_time(t, theta_2, ax)\n",
    "peak_time, peak_overshoot = calc_peak_overshoot(t, theta_2, ax)\n",
    "settling_time = calc_settling_time(t, theta_2, ax)\n",
    "\n",
    "print('Rise Time = ', rise_time, 's', sep='' )\n",
    "print('Peak Time = ', peak_time, 's', sep='' )\n",
    "print('Peak Overshoot = ', peak_overshoot, '%', sep='' )\n",
    "print('Settling Time = ', settling_time, 's', sep='' )"
   ]
  },
  {
   "cell_type": "markdown",
   "id": "03069f93",
   "metadata": {
    "slideshow": {
     "slide_type": "slide"
    }
   },
   "source": [
    "# Second Type of Plot we will use: S-Plane Plot\n",
    "\n",
    "We have determined that the poles are very important. So we want to have a plot to visualize the poles and zeros and be able to infer some of the effects of the pole locations. \n",
    "\n",
    "Recall poles/zeros can be real or imaginary. \n",
    "\n",
    "Idea: create a plot with\n",
    "- real parts of the poles/zeros along x-axis\n",
    "- imaginary parts of the poles/zeros along y-axis\n"
   ]
  },
  {
   "cell_type": "code",
   "execution_count": 5,
   "id": "364f1209",
   "metadata": {
    "slideshow": {
     "slide_type": "fragment"
    }
   },
   "outputs": [],
   "source": [
    "def enel441_s_plane_plot(num_sys, den_sys, fig=[], ax=[]):\n",
    "    if not fig: \n",
    "        fig, ax = plt.subplots(1,1)\n",
    "    \n",
    "    poles_sys = np.roots(den_sys)\n",
    "    for pp in poles_sys:\n",
    "        ax.plot(np.real(pp), np.imag(pp), 'bx' )\n",
    "\n",
    "    zeros_sys = np.roots(num_sys)\n",
    "    for zz in zeros_sys:\n",
    "        ax.plot(np.real(zz), np.imag(zz), 'ro')\n",
    "\n",
    "    plt.xlim(np.min(np.real(poles_sys))-0.5, np.max(np.real(poles_sys))+0.5)\n",
    "    x_left, x_right = plt.xlim()\n",
    "\n",
    "    if x_right < 0.5:\n",
    "        x_right = 0.5\n",
    "\n",
    "    if x_left > -0.5:\n",
    "        x_left = -0.5\n",
    "\n",
    "    plt.xlim(x_left, x_right)\n",
    "    ax.grid(True)\n",
    "    ax.spines['left'].set_position('zero')\n",
    "    # turn off the right spine/ticks\n",
    "    ax.spines['right'].set_color('none')\n",
    "    ax.yaxis.tick_left()\n",
    "    # set the y-spine\n",
    "    ax.spines['bottom'].set_position('zero')\n",
    "\n",
    "    # turn off the top spine/ticks\n",
    "    ax.spines['top'].set_color('none')\n",
    "    ax.xaxis.tick_bottom()\n",
    "    ax.set_title('S-Plane Plot')\n",
    "    ax.set_xlabel('Real[s]')\n",
    "    ax.set_ylabel('Imag[s]')\n",
    "\n",
    "    ax.xaxis.set_label_coords(0.5,-0.01)\n",
    "    ax.yaxis.set_label_coords(-0.01,0.5)\n",
    "    return fig, ax\n",
    "\n"
   ]
  },
  {
   "cell_type": "code",
   "execution_count": 6,
   "id": "63e487b4",
   "metadata": {
    "slideshow": {
     "slide_type": "fragment"
    }
   },
   "outputs": [
    {
     "data": {
      "image/png": "[encoded data removed]",
      "text/plain": [
       "<Figure size 640x480 with 1 Axes>"
      ]
     },
     "metadata": {},
     "output_type": "display_data"
    }
   ],
   "source": [
    "# s-plane plot\n",
    "k = 2\n",
    "den_sys = np.array([J, b, k])\n",
    "num_sys = np.array([k])\n",
    "fig, ax = enel441_s_plane_plot(num_sys,den_sys)"
   ]
  },
  {
   "cell_type": "markdown",
   "id": "96a7b84e",
   "metadata": {
    "slideshow": {
     "slide_type": "slide"
    }
   },
   "source": [
    "# In Class Activity!\n",
    "\n",
    "# Visualizing characteristics odf the step Response on the S-Plane Plot\n",
    "\n",
    "Select a set of systems, with poles along a vertical line in the s-plane. Make sure you pick a vertical line that ends up with stable systems. Plot the step-responses of each system on the same plot. What do you notice about the step responses? "
   ]
  },
  {
   "cell_type": "code",
   "execution_count": 7,
   "id": "02ceca03",
   "metadata": {
    "slideshow": {
     "slide_type": "fragment"
    }
   },
   "outputs": [
    {
     "data": {
      "image/png": "[encoded data removed]",
      "text/plain": [
       "<Figure size 640x480 with 1 Axes>"
      ]
     },
     "metadata": {},
     "output_type": "display_data"
    },
    {
     "data": {
      "image/png": "[encoded data removed]",
      "text/plain": [
       "<Figure size 640x480 with 1 Axes>"
      ]
     },
     "metadata": {},
     "output_type": "display_data"
    }
   ],
   "source": [
    "import enel441_utilities as eu\n",
    "import numpy as np\n",
    "import importlib\n",
    "\n",
    "importlib.reload(eu)\n",
    "\n",
    "def roots_to_polynomial(roots_poly):\n",
    "    poly = np.array([1])\n",
    "    for rr in roots_poly:\n",
    "        poly = np.convolve(poly, np.array([1, -rr]))\n",
    "    return np.real(poly)\n",
    "\n",
    "\n",
    "# pick three polynomials with roots on the same vertical line\n",
    "p1 = -1+2j   # choose p1 with smallest imaginary part\n",
    "p2 = -1+3j\n",
    "p3 = -1+4j   # choose p3 with largest imaginary part.\n",
    "roots1 = np.array([p1, np.conjugate(p1), 0]) \n",
    "roots2 = np.array([p2, np.conjugate(p2), 0])\n",
    "roots3 = np.array([p3, np.conjugate(p3), 0])\n",
    "den1 = eu.roots_to_polynomial(roots1)\n",
    "den2 = eu.roots_to_polynomial(roots2)\n",
    "den3 = eu.roots_to_polynomial(roots3)\n",
    "num1 = np.array([abs(p1)**2])   # normalize the response to a unit step. Can we explain why this works?\n",
    "num2 = np.array([abs(p2)**2])\n",
    "num3 = np.array([abs(p3)**2])\n",
    "\n",
    "fig, ax = eu.enel441_s_plane_plot(num1,den1)\n",
    "fig, ax = eu.enel441_s_plane_plot(num2,den2, fig, ax)\n",
    "fig, ax = eu.enel441_s_plane_plot(num3,den3, fig, ax)\n",
    "ax.arrow(np.real(p1), np.imag(p1)-0.5, 0, np.imag(p3)+1, linestyle='--',head_width=0.025, head_length=0.5, fc='k')\n",
    "ax.arrow(np.real(p1), -np.imag(p1)+0.5, 0, -np.imag(p3)-1, linestyle='--',head_width=0.025, head_length=0.5, fc='k')\n",
    "\n",
    "# calculate step responses\n",
    "N = 10000   #number of points\n",
    "Tf = 20     #time in seconds of simulation\n",
    "t = np.linspace(0,Tf,N)\n",
    "\n",
    "fig, ax, out_step = eu.enel441_step_response(num1,den1,t)\n",
    "fig, ax, out_step = eu.enel441_step_response(num2,den2,t, fig, ax)\n",
    "fig, ax, out_step = eu.enel441_step_response(num3,den3,t, fig, ax)"
   ]
  },
  {
   "cell_type": "markdown",
   "id": "58f2cbac",
   "metadata": {
    "slideshow": {
     "slide_type": "fragment"
    }
   },
   "source": [
    "# What do we see? \n",
    "\n",
    "# What characteristic of the step response stays the same? \n",
    "\n",
    "# Does this match the equations derived during the videos?"
   ]
  },
  {
   "cell_type": "markdown",
   "id": "8def2ce7",
   "metadata": {
    "slideshow": {
     "slide_type": "fragment"
    }
   },
   "source": [
    "Now, select a set of systems with poles along a horizontal line in the s-plane. Make sure you pick a line that ends up with stable systems. Plot the step-responses of each system on the same plot. What do you notice about the step responses? "
   ]
  },
  {
   "cell_type": "code",
   "execution_count": 8,
   "id": "834e3d67",
   "metadata": {
    "slideshow": {
     "slide_type": "fragment"
    }
   },
   "outputs": [
    {
     "data": {
      "image/png": "[encoded data removed]",
      "text/plain": [
       "<Figure size 640x480 with 1 Axes>"
      ]
     },
     "metadata": {},
     "output_type": "display_data"
    },
    {
     "data": {
      "image/png": "[encoded data removed]",
      "text/plain": [
       "<Figure size 640x480 with 1 Axes>"
      ]
     },
     "metadata": {},
     "output_type": "display_data"
    }
   ],
   "source": [
    "# pick three polynomials with roots on the same vertical line\n",
    "p1 = -0.25+5j # choose p1 with least negaitve real part\n",
    "p2 = -0.5+5j\n",
    "p3 = -0.75+5j # choose p3 with most negative real part\n",
    "roots1 = np.array([p1, np.conjugate(p1), 0])\n",
    "roots2 = np.array([p2, np.conjugate(p2), 0])\n",
    "roots3 = np.array([p3, np.conjugate(p3), 0])\n",
    "den1 = eu.roots_to_polynomial(roots1)\n",
    "den2 = eu.roots_to_polynomial(roots2)\n",
    "den3 = eu.roots_to_polynomial(roots3)\n",
    "num1 = np.array([abs(p1)**2])\n",
    "num2 = np.array([abs(p2)**2])\n",
    "num3 = np.array([abs(p3)**2])\n",
    "\n",
    "fig, ax = eu.enel441_s_plane_plot(num1,den1)\n",
    "fig, ax = eu.enel441_s_plane_plot(num2,den2, fig, ax)\n",
    "fig, ax = eu.enel441_s_plane_plot(num3,den3, fig, ax)\n",
    "ax.arrow(np.real(p1), np.imag(p1), np.real(p3), 0, linestyle='--',head_width=0.1, head_length=0.05, fc='k')\n",
    "ax.arrow(np.real(p1), -np.imag(p1), np.real(p3), 0, linestyle='--',head_width=0.1, head_length=0.05, fc='k')\n",
    "\n",
    "# calculate step responses\n",
    "N = 10000   #number of points\n",
    "Tf = 20     #time in seconds of simulation\n",
    "t = np.linspace(0,Tf,N)\n",
    "\n",
    "fig, ax, out_step = eu.enel441_step_response(num1,den1,t)\n",
    "fig, ax, out_step = eu.enel441_step_response(num2,den2,t, fig, ax)\n",
    "fig, ax, out_step = eu.enel441_step_response(num3,den3,t, fig, ax)"
   ]
  },
  {
   "cell_type": "markdown",
   "id": "6c5f596e",
   "metadata": {
    "slideshow": {
     "slide_type": "fragment"
    }
   },
   "source": [
    "# What do we observe? \n",
    "\n",
    "# What characteristic of the step reponse stays the same?\n",
    "\n",
    "# Does this match what we learned in the video?"
   ]
  },
  {
   "cell_type": "code",
   "execution_count": null,
   "id": "eed80178",
   "metadata": {
    "slideshow": {
     "slide_type": "fragment"
    }
   },
   "outputs": [],
   "source": [
    "# pick three polynomials with roots on the same diagonal line\n",
    "p1 = -1+1j # pole closest to the origin\n",
    "p2 = -2+2j\n",
    "p3 = -3+3j # pole furthest from the origin\n",
    "roots1 = np.array([p1, np.conjugate(p1), 0])\n",
    "roots2 = np.array([p2, np.conjugate(p2), 0])\n",
    "roots3 = np.array([p3, np.conjugate(p3), 0])\n",
    "den1 = eu.roots_to_polynomial(roots1)\n",
    "den2 = eu.roots_to_polynomial(roots2)\n",
    "den3 = eu.roots_to_polynomial(roots3)\n",
    "num1 = np.array([abs(p1)**2])\n",
    "num2 = np.array([abs(p2)**2])\n",
    "num3 = np.array([abs(p3)**2])\n",
    "\n",
    "\n",
    "fig, ax = eu.enel441_s_plane_plot(num1,den1)\n",
    "fig, ax = eu.enel441_s_plane_plot(num2,den2, fig, ax)\n",
    "fig, ax = eu.enel441_s_plane_plot(num3,den3, fig, ax)\n",
    "ax.arrow(-0.25, 0.25, -3, 3, linestyle='--',head_width=0.1, head_length=0.1, fc='k')\n",
    "ax.arrow(-0.25, -0.25, -3, -3, linestyle='--',head_width=0.1, head_length=0.1, fc='k')\n",
    "\n",
    "# calculate step responses\n",
    "N = 10000   #number of points\n",
    "Tf = 20     #time in seconds of simulation\n",
    "t = np.linspace(0,Tf,N)\n",
    "\n",
    "fig, ax, out_step = eu.enel441_step_response(num1,den1,t)\n",
    "fig, ax, out_step = eu.enel441_step_response(num2,den2,t, fig, ax)\n",
    "fig, ax, out_step = eu.enel441_step_response(num3,den3,t, fig, ax)"
   ]
  },
  {
   "cell_type": "markdown",
   "id": "2bf9218c",
   "metadata": {
    "slideshow": {
     "slide_type": "slide"
    }
   },
   "source": [
    "# Insights\n",
    "- The poles of a system have a strong effect on the transient response of a system\n",
    "- There are pole patterns in the s-plane that can help us to estimate some characteristics of the transient response (is it fast or slow, highly occiliatory or not?)\n",
    "\n",
    "This is important, because sometimes requirements of a control system are stated in terms of rise time, settling time and/or maximum overshoot. \n",
    "\n",
    "For second order systems, we have mapped these requirements to an area in the s-plane. Thus we know that any system with-in a certain area will meet the specified requirements! \n",
    "\n",
    "See video for exact equations.\n",
    "\n",
    "In a few weeks, we will be using controllers to \"place\" the poles of a system anywhere in the s-plane. Now we know where we want to place them!\n",
    "\n",
    "However, these equations only hold for second order systems. Most systems are higher order... What now?"
   ]
  },
  {
   "cell_type": "markdown",
   "id": "24f79c03",
   "metadata": {
    "slideshow": {
     "slide_type": "fragment"
    }
   },
   "source": [
    "The step response for an $n$th order system is:\n",
    "$$\n",
    "\\begin{align*}\n",
    "C(s) = \\frac{c_0}{s} + \\sum_k^n \\frac{c_k}{s+a_k},\n",
    "\\end{align*}\n",
    "$$\n",
    "where\n",
    "- $\\frac{1}{s}$ is the response due to the step,\n",
    "- $c_1, c_2, \\ldots$ are the coefficients of the partial fraction expansion (can be complex),\n",
    "- $a_1, a_2, \\ldots$ are the poles of the transfer function (can be complex).\n",
    "Note: if $c_1$, $c_2$, $\\ldots$ are complex, then they always appear in complex conjugate pairs. Same for the poles. \n",
    "\n",
    "Taking inverse Laplace transform:\n",
    "$$\n",
    "\\begin{align*}\n",
    "c(t) &= c_0u(t) + \\sum_k^n c_k e^{-a_kt} \\\\\n",
    "&= c_0 u(t) + \\underbrace{\\sum_m c_m e^{-a_m t}}_{\\text{all $a_m$ are real}} + \\underbrace{\\sum_p 2 r_p e^{- \\alpha t}\\cos( \\beta t - \\theta)}_{\\text{response due to imaginary poles}}\n",
    "\\end{align*}\n",
    "$$\n",
    "where \n",
    "- $a_k = \\alpha_k + j \\beta_k$ (pole expressed in real and imaginary parts), \n",
    "- $c_k = r_k e^{j \\theta_k}$ (partial fraction coefficient expressed in polar coordinates)\n",
    "\n"
   ]
  },
  {
   "cell_type": "code",
   "execution_count": null,
   "id": "b54d3c01",
   "metadata": {
    "slideshow": {
     "slide_type": "fragment"
    }
   },
   "outputs": [],
   "source": [
    "# In Class Activity\n",
    "\n",
    "Dominance of a particular decaying exponential is governed by 2 features:\n",
    "- is the decaying exponential slow compared to the rest of the poles (What does slow mean?)\n",
    "- magnitude of the partial fraction expansion coefficient (what does this depend on?)\n",
    "\n",
    "Interestingly: placing a zero close to a pole reduces the magnitude of the partial fraction expansion coefficient. \n",
    "\n",
    "Generate several step responses for systems with different pole/zero combinations. \n",
    "- Generate systems with dominant poles, and then add zeros to reduce the effect of the dominant poles. \n",
    "- Generate systems with dominate poles, add poles with faster dynamics. What happens?\n"
   ]
  },
  {
   "cell_type": "code",
   "execution_count": null,
   "id": "45127062",
   "metadata": {
    "slideshow": {
     "slide_type": "fragment"
    }
   },
   "outputs": [],
   "source": [
    "import enel441_utilities as eu\n",
    "import numpy as np\n",
    "import importlib\n",
    "\n",
    "importlib.reload(eu)\n",
    "\n",
    "def enel441_plot_step_response_bounds_per_pole(num, den, t, ax):\n",
    "    poles, coefficients = eu.enel441_partial_fraction_expansion(num, den)\n",
    "    num_poles = poles.shape[0]\n",
    "\n",
    "    resp_poles = np.zeros((N,num_poles))\n",
    "    pole_strs = []\n",
    "    jj = 0\n",
    "    is_step_resp = False\n",
    "    for ii in range(num_poles):\n",
    "        if np.abs(poles[ii]) > 1e-10:\n",
    "            resp_poles[:,jj] = 2*np.abs(coefficients[ii])*np.exp(np.real(poles[ii])*t)  # bound is due to real portion of pole only\n",
    "            pole_strs.append('{:.2f}'.format(poles[ii]))\n",
    "            jj += 1\n",
    "        else: \n",
    "            offset = np.abs(coefficients[ii])\n",
    "            is_step_resp = True\n",
    "    \n",
    "    if is_step_resp:\n",
    "        for ii in range(num_poles-1):\n",
    "            ax.plot(t, resp_poles[:,ii]+offset, '--', color='C'+str(ii), label='p='+pole_strs[ii])\n",
    "            ax.plot(t, -resp_poles[:,ii]+offset, '--', color='C'+str(ii))\n",
    "    else:\n",
    "        for ii in range(num_poles):\n",
    "            ax.plot(t, resp_poles[:,ii], '--', color='C'+str(ii), label='p='+pole_strs[ii])\n",
    "            ax.plot(t, -resp_poles[:,ii], '--', color='C'+str(ii))\n",
    "\n",
    "\n",
    "    ax.legend()    \n",
    "\n",
    "N = 10000   #number of points\n",
    "Tf = 20     #time in seconds of simulation\n",
    "t = np.linspace(0,Tf,N)\n",
    "\n",
    "poles_array = np.array([-0.5+2j, -0.5-2j, -2+5j, -2-5j, 0])\n",
    "zeros_array1 = np.array([])\n",
    "zeros_array2 = np.array([-0.5])\n",
    "zeros_array3 = np.array([-0.5+1.5j, -0.5-1.5j])\n",
    "den = eu.roots_to_polynomial(poles_array)\n",
    "num1 = eu.roots_to_polynomial(zeros_array1)\n",
    "num2 = eu.roots_to_polynomial(zeros_array2)\n",
    "num3 = eu.roots_to_polynomial(zeros_array3)\n",
    "num1 = num1*den[-2]/num1[-1]  # normalize step response so that y(\\infty) = 1\n",
    "num2 = num2*den[-2]/num2[-1]\n",
    "num3 = num3*den[-2]/num3[-1]\n",
    "\n",
    "# Calculate partial fraction expansion to see effect of placing zeros near poles\n",
    "poles1, coeff1 = eu.enel441_partial_fraction_expansion(num1, den)\n",
    "print('Numerator:', num1)\n",
    "print('Denominator:', den)\n",
    "print('Poles:', poles1)\n",
    "print('Coeff:', coeff1)\n",
    "print('*Look at the relative magnitude of the coefficients of the slow and fast poles.')\n",
    "fig, ax, out_step = eu.enel441_step_response(num1, den, t)\n",
    "eu.enel441_s_plane_plot(num1, den)\n",
    "eu.enel441_plot_step_response_bounds_per_pole(num1, den, t, ax)\n",
    "\n",
    "\n",
    "poles2, coeff2 = eu.enel441_partial_fraction_expansion(num2, den)\n",
    "print('\\n\\nNumerator:', num2)\n",
    "print('Denominator:', den)\n",
    "print('Poles:', poles2)\n",
    "print('Coeff:', coeff2)\n",
    "print('*Look at the relative magnitude of the coefficients of the slow and fast poles.')\n",
    "fig, ax, out_step = eu.enel441_step_response(num2, den, t)\n",
    "eu.enel441_s_plane_plot(num2, den)\n",
    "eu.enel441_plot_step_response_bounds_per_pole(num2, den, t, ax)\n",
    "\n",
    "\n",
    "poles3, coeff3 = eu.enel441_partial_fraction_expansion(num3, den)\n",
    "print('\\n\\nNumerator:', num3)\n",
    "print('Denominator:', den)\n",
    "print('Poles:', poles3)\n",
    "print('Coeff:', coeff3)\n",
    "print('*Look at the relative magnitude of the coefficients of the slow and fast poles.')\n",
    "fig, ax, out_step = eu.enel441_step_response(num3, den, t)\n",
    "eu.enel441_s_plane_plot(num3, den)\n",
    "eu.enel441_plot_step_response_bounds_per_pole(num3, den, t, ax)\n",
    "\n",
    "\n",
    "fig, ax, out_step = eu.enel441_step_response(num1, den, t)\n",
    "fig, ax, out_step = eu.enel441_step_response(num2, den, t, fig, ax)\n",
    "fig, ax, out_step = eu.enel441_step_response(num3, den, t, fig, ax)"
   ]
  },
  {
   "cell_type": "markdown",
   "id": "ea4f5319",
   "metadata": {
    "slideshow": {
     "slide_type": "fragment"
    }
   },
   "source": [
    "# Interesting - we have gained some insight into the significance of zeros!\n",
    "\n",
    "We have learned how 'placing' zeros can affect the behavior of the system! By placing zeros we are directly manipulating the coefficients of the partial fraction expansion. \n",
    "\n",
    "We gained this insight by looking at the s-plane plot, and connected it to the coefficients of the partial fraction expansion! That is a non-trivial connection. "
   ]
  },
  {
   "cell_type": "markdown",
   "id": "bd600d5b",
   "metadata": {
    "slideshow": {
     "slide_type": "slide"
    }
   },
   "source": [
    "# In Class Activity\n",
    "Place a zero in the right half plane. What happens to the step response? What looks different?\n",
    "\n",
    "This is called a non-minimum phase zero. "
   ]
  },
  {
   "cell_type": "code",
   "execution_count": null,
   "id": "78b8757f",
   "metadata": {
    "slideshow": {
     "slide_type": "fragment"
    }
   },
   "outputs": [],
   "source": [
    "import enel441_utilities as eu\n",
    "import numpy as np\n",
    "import importlib\n",
    "\n",
    "importlib.reload(eu)\n",
    "\n",
    "\n",
    "p1 = -1+1j\n",
    "roots1 = np.array([p1, np.conjugate(p1), 0])\n",
    "den1 = eu.roots_to_polynomial(roots1)\n",
    "num1 = np.array([1, -3])\n",
    "num1 = num1*den1[-2]/num1[-1]\n",
    "\n",
    "\n",
    "# calculate step responses\n",
    "N = 10000   #number of points\n",
    "Tf = 20     #time in seconds of simulation\n",
    "t = np.linspace(0,Tf,N)\n",
    "\n",
    "eu.enel441_s_plane_plot(num1, den1)\n",
    "fig, ax, out_step = eu.enel441_step_response(num1,den1,t)"
   ]
  },
  {
   "cell_type": "code",
   "execution_count": null,
   "id": "5a077a97",
   "metadata": {
    "slideshow": {
     "slide_type": "slide"
    }
   },
   "outputs": [],
   "source": [
    "# In Class Activity\n",
    "Place a pole in the right half plane. What happens to the step response? What looks different?\n",
    "\n",
    "This is called an unstable pole."
   ]
  },
  {
   "cell_type": "code",
   "execution_count": null,
   "id": "f4a93677",
   "metadata": {
    "slideshow": {
     "slide_type": "fragment"
    }
   },
   "outputs": [],
   "source": [
    "import enel441_utilities as eu\n",
    "import numpy as np\n",
    "import importlib\n",
    "\n",
    "importlib.reload(eu)\n",
    "\n",
    "\n",
    "p1 = 1+1j\n",
    "roots1 = np.array([p1, np.conjugate(p1), 0])\n",
    "den1 = eu.roots_to_polynomial(roots1)\n",
    "num1 = np.array([1, 3])\n",
    "num1 = num1*den1[-2]/num1[-1]\n",
    "\n",
    "\n",
    "# calculate step responses\n",
    "N = 10000   #number of points\n",
    "Tf = 20     #time in seconds of simulation\n",
    "t = np.linspace(0,Tf,N)\n",
    "\n",
    "eu.enel441_s_plane_plot(num1, den1)\n",
    "fig, ax, out_step = eu.enel441_step_response(num1,den1,t)"
   ]
  },
  {
   "cell_type": "code",
   "execution_count": null,
   "id": "841f0075",
   "metadata": {
    "slideshow": {
     "slide_type": "slide"
    }
   },
   "outputs": [],
   "source": [
    "# Simulate system for a given input\n",
    "\n",
    "Now we want to be able to simulate the response of the system to any input. \n",
    "\n",
    "This becomes tedious using Laplace transforms. Luckily, there are built-in functions in python that can help us!\n"
   ]
  },
  {
   "cell_type": "code",
   "execution_count": null,
   "id": "4ffaa518",
   "metadata": {
    "slideshow": {
     "slide_type": "fragment"
    }
   },
   "outputs": [],
   "source": [
    "# In Class Activity!\n",
    "- Look at response of multi-sines, ramps, triangle waves, noise + pulse, noise + sinusoid, others?\n",
    "- Try different system parameters\n",
    "\n"
   ]
  },
  {
   "cell_type": "code",
   "execution_count": null,
   "id": "406e1cc7",
   "metadata": {
    "slideshow": {
     "slide_type": "fragment"
    }
   },
   "outputs": [],
   "source": [
    "# set system parameters\n",
    "J = 1 \n",
    "k = 2\n",
    "b = 1\n",
    "\n",
    "den_sys = np.array([J, b, k])\n",
    "num_sys = np.array([k])\n",
    "\n",
    "N = 10000\n",
    "dt = 1/1000\n",
    "t = np.linspace(0,dt*N,N)\n",
    "\n",
    "# make a step input\n",
    "u_step = np.ones((N))\n",
    "\n",
    "# make a rectangular pulse input\n",
    "n_pulse = 1000     #width of pulse in number of steps of size dt\n",
    "u_pulse = np.zeros(N)\n",
    "u_pulse[0:n_pulse] = np.ones((n_pulse))\n",
    "\n",
    "# make an input that is a single sinusoid\n",
    "f = 1   #frequency of sinusoid\n",
    "theta = math.pi/6\n",
    "u_sinusoid = np.sin(2*math.pi*f*t + theta)\n",
    "\n",
    "# make an input that is random\n",
    "u_rand = np.random.randn(N)\n",
    "\n",
    "# simulate the system output for selected input signal (note initial conditions are assumed to be zero)\n",
    "u = u_sinusoid\n",
    "tout, yout, xout = sp.signal.lsim((num_sys,den_sys),U=u,T=t)\n",
    "\n",
    "# plot the response\n",
    "fig, ax = plt.subplots(1,1)\n",
    "ax.plot(t, u, label='input')\n",
    "ax.plot(tout, yout, label='output')\n",
    "ax.set_title('Response of System')\n",
    "ax.set_xlabel('Time (s)')\n",
    "ax.set_ylabel('Angle (rad)')\n",
    "plt.legend()\n",
    "\n",
    "plt.show()"
   ]
  },
  {
   "cell_type": "markdown",
   "id": "66f3cfaf",
   "metadata": {
    "slideshow": {
     "slide_type": "fragment"
    }
   },
   "source": [
    "# Observations\n",
    "- What do you notice about the sinusoidal inputs?\n",
    "- How does linearity play a role when predicting the output of a pulse?"
   ]
  },
  {
   "cell_type": "markdown",
   "id": "f712c9e6",
   "metadata": {
    "slideshow": {
     "slide_type": "slide"
    }
   },
   "source": [
    "# In part we learned about\n",
    "- minimum phase zeros\n",
    "- unstable poles"
   ]
  },
  {
   "cell_type": "code",
   "execution_count": null,
   "id": "4ea266ea",
   "metadata": {},
   "outputs": [],
   "source": []
  }
 ],
 "metadata": {
  "celltoolbar": "Slideshow",
  "kernelspec": {
   "display_name": "enel441",
   "language": "python",
   "name": "python3"
  },
  "language_info": {
   "codemirror_mode": {
    "name": "ipython",
    "version": 3
   },
   "file_extension": ".py",
   "mimetype": "text/x-python",
   "name": "python",
   "nbconvert_exporter": "python",
   "pygments_lexer": "ipython3",
   "version": "3.10.8"
  },
  "rise": {
   "scroll": true
  },
  "vscode": {
   "interpreter": {
    "hash": "aae2aa8d6042359e33b866bd60410f1e12f989f850a82b777f7146ee7b999886"
   }
  }
 },
 "nbformat": 4,
 "nbformat_minor": 5
}
