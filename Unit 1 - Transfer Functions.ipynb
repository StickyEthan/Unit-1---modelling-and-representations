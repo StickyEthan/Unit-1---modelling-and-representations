{
 "cells": [
  {
   "cell_type": "markdown",
   "id": "6e0fd02e",
   "metadata": {
    "slideshow": {
     "slide_type": "slide"
    }
   },
   "source": [
    "# Unit 1 - Modelling and Representations of Systems\n",
    "# Part 2 - Laplace Transforms, Transfer Functions and S-Plane Plots\n",
    "\n",
    "- Modelling of electrical and mechanical systems\n",
    "    - Electric circuits with resistors, capacitors, inductors, op-amps\n",
    "    - Translational mechanical systems\n",
    "    - Rotational mechanical systems\n",
    "- Simulation of a system\n",
    "    - Response due to initial conditions\n",
    "    - Step response\n",
    "    - Response to any input\n",
    "- Representations\n",
    "    - Differential equation\n",
    "    - Transfer function\n",
    "- Characteristics of a system\n",
    "    - Settling Time\n",
    "    - Maximum overshoot\n",
    "    - Rise time\n",
    "    - Stability\n",
    "- Key Concept\n",
    "    - Poles\n",
    "    - Zeros\n",
    "- Plots\n",
    "    - Time domain response\n",
    "    - S-Plane"
   ]
  },
  {
   "cell_type": "markdown",
   "id": "721933f6",
   "metadata": {
    "slideshow": {
     "slide_type": "slide"
    }
   },
   "source": [
    "# From previous part:\n",
    "\n",
    "Solving differential equations in time domain is tedious, however, we could do it. \n",
    "\n",
    "On the other hand over time people have come up with helpful tools that either:\n",
    "- simplify the task of solving differential equations (for example: Laplace)\n",
    "- give extra insight (for example: Fourier)\n",
    "- or both! \n",
    "\n",
    "Key insight from transfer function representation:\n",
    "- poles/zeros of a system"
   ]
  },
  {
   "cell_type": "markdown",
   "id": "045d72dc",
   "metadata": {
    "slideshow": {
     "slide_type": "slide"
    }
   },
   "source": [
    "# Consider same example as last part\n",
    "\n",
    "![1 Disk Graphic Diagram](1diskSimpleGraphic.png \"1 Disk Graphic Diagram\")\n",
    "​\n",
    "A torque is applied to a thin flexible rod. A disk is attached to the rod. The rod is supported by bearings on the left side of the disk. The angular position of the rod at both ends is measured. \n",
    "​\n",
    "We will:\n",
    "- Derive the transfer function between angular position of the rod at the left side ($\\theta_1$) and angular position of the rod at the right side ($\\theta_2$),\n",
    "- Analyze pole-zero map, \n",
    "- Analyze step response of system,\n",
    "- See how to simulate the output of the system for any input using Python.\n",
    "​\n",
    "# Schematic Diagram \n",
    "![1 Disk Schematic Diagram](1diskSimpleSchematic.png \"1 Disk Schematic Diagram\")\n",
    "\n",
    "# Free Body Diagram\n",
    "![1 Disk Free Body Diagram](1diskSimpleFreeBody.png \"1 Disk Free Body Diagram\")\n",
    "\n",
    "Governing differential equation that we derived in previous part:\n",
    "$$\n",
    "\\begin{align*}\n",
    "k \\theta_1 = J \\frac{\\text{d}^2 \\theta_2}{\\text{dt}^2} + b \\frac{\\text{d} \\theta_2}{\\text{dt}} + k \\theta_2\n",
    "\\end{align*}\n",
    "$$"
   ]
  },
  {
   "cell_type": "markdown",
   "id": "0171d159",
   "metadata": {
    "slideshow": {
     "slide_type": "fragment"
    }
   },
   "source": [
    "Recall the following properties of the Laplace transform:\n",
    "$$\n",
    "\\begin{align*}\n",
    "\\mathcal{L}[f'(t)] &= sF(s) - f(0) \\\\\n",
    "\\mathcal{L}[f''(t)] &= s^2F(s) -sf(0) - f(0)'\n",
    "\\end{align*}\n",
    "$$\n",
    "        \n",
    "# In Class Activity!\n",
    "\n",
    "Using these properties, take the Laplace transform the governing differential equation that we derived earlier:\n",
    "$$\n",
    "\\begin{align*}\n",
    "\\mathcal{L}[ k \\theta_1 ] = \\mathcal{L}[ J \\frac{\\text{d}^2 \\theta_2}{\\text{dt}^2} + b \\frac{\\text{d} \\theta_2}{\\text{dt}} + k \\theta_2]\n",
    "\\end{align*}\n",
    "$$\n",
    "\n",
    "Gather $\\Theta_1(s)$ and $\\Theta_2(s)$ terms."
   ]
  },
  {
   "cell_type": "markdown",
   "id": "93b47cb9",
   "metadata": {
    "slideshow": {
     "slide_type": "fragment"
    }
   },
   "source": [
    "Take Laplace transform of both sides:\n",
    "$$\n",
    "\\begin{align*}\n",
    "\\mathcal{L}[k \\theta_1(t)] &= \\mathcal{L}\\Big[ J \\frac{\\text{d}^2 \\theta_2(t)}{\\text{dt}^2} + b \\frac{\\text{d} \\theta_2(t)}{\\text{dt}} + k \\theta_2(t) \\Big] \\\\\n",
    "k \\Theta_1(s) &= J s^2 \\Theta_2(s) + b s \\Theta_2(s) + k \\Theta_2(s) - J s \\theta_2(0) -J \\theta_2'(0) - k \\theta_2(0)\n",
    "\\end{align*}\n",
    "$$\n",
    "Gather terms and find expression for $\\Theta_2(s)$:\n",
    "$$\n",
    "\\begin{align*}\n",
    "\\Theta_2(s) = \\underbrace{\\frac{k}{Js^2 + bs+k}}_{\\text{Transfer Function}}\\Theta_1(s) + \\underbrace{\\frac{Js\\theta_2(0) + J \\theta_2'(0) + k \\theta_2(0)}{Js^2 + bs+k}}_{\\text{Response due to initial conditions}}\n",
    "\\end{align*}\n",
    "$$"
   ]
  },
  {
   "cell_type": "markdown",
   "id": "4f9525d1",
   "metadata": {
    "slideshow": {
     "slide_type": "fragment"
    }
   },
   "source": [
    "# Step Response\n",
    "\n",
    "Let the input, in this case $\\theta_1(t)$, be a step. \n",
    "\n",
    "Step function defined as:\n",
    "$$\n",
    "\\begin{align*}\n",
    "1(t) = \\begin{cases}\n",
    "0 & \\text{if $t\\le0$}, \\\\\n",
    "1 & \\text{if $t>0$}.\n",
    "\\end{cases}\n",
    "\\end{align*}\n",
    "$$\n",
    "\n",
    "What is the Laplace transform of a step? \n"
   ]
  },
  {
   "cell_type": "code",
   "execution_count": null,
   "id": "67c9c367",
   "metadata": {
    "slideshow": {
     "slide_type": "fragment"
    }
   },
   "outputs": [],
   "source": [
    "$$\n",
    "\\begin{align*}\n",
    "\\mathcal{L}[1(t)] = \\frac{1}{s}\n",
    "\\end{align*}\n",
    "$$"
   ]
  },
  {
   "cell_type": "markdown",
   "id": "3c4ed2d1",
   "metadata": {
    "slideshow": {
     "slide_type": "fragment"
    }
   },
   "source": [
    "# In Class Activity!\n",
    "\n",
    "- Read and understand the following code. \n",
    "- Modify the parameters of the system and compare the step response. \n",
    "    - What happens when you increase the spring constant? \n",
    "    - What happens when you increase the inertia?\n",
    "    - What happens when you increase the damping?\n"
   ]
  },
  {
   "cell_type": "code",
   "execution_count": 1,
   "id": "75609d62",
   "metadata": {
    "slideshow": {
     "slide_type": "fragment"
    }
   },
   "outputs": [],
   "source": [
    "import scipy as sp\n",
    "import numpy as np\n",
    "import matplotlib.pyplot as plt\n",
    "import math"
   ]
  },
  {
   "cell_type": "code",
   "execution_count": 6,
   "id": "150364e1",
   "metadata": {
    "slideshow": {
     "slide_type": "fragment"
    }
   },
   "outputs": [
    {
     "data": {
      "image/png": "[encoded data removed]",
      "text/plain": [
       "<Figure size 640x480 with 1 Axes>"
      ]
     },
     "metadata": {},
     "output_type": "display_data"
    }
   ],
   "source": [
    "def partial_fraction_expansion_3nd_order_sys(num, den):\n",
    "\n",
    "    poles = np.roots(den)\n",
    "    regression_matrix = np.array([[1,1,1], [poles[1]+poles[2], poles[0]+poles[2], poles[0]+poles[1]], [poles[1]*poles[2], poles[0]*poles[2], poles[0]*poles[1]]])\n",
    "    num_vec = np.zeros(3)\n",
    "    num_vec[(3-num.shape[0]):3] = num\n",
    "\n",
    "    coefficients_vec = np.linalg.inv(regression_matrix) @ num_vec  #note @ means matrix multiply in python\n",
    "    return poles, coefficients_vec\n",
    "\n",
    "def enel441_step_response(num, den, t):\n",
    "    poles, coefficients = partial_fraction_expansion_3nd_order_sys(num, den)\n",
    "\n",
    "    # Plot the step reponse (assume initial conditions are zero)\n",
    "    out_step = coefficients[0]*np.exp(poles[0]*t) + coefficients[1]*np.exp(poles[1]*t) + coefficients[2]*np.exp(poles[2]*t)\n",
    "    \n",
    "    out_step = np.real(out_step)\n",
    "    \n",
    "    fig, ax = plt.subplots(1,1)\n",
    "    ax.plot(t,out_step.real)\n",
    "    ax.set_title(r'Step response')\n",
    "    ax.set_xlabel('Time (s)')\n",
    "    return fig, ax, out_step\n",
    "\n",
    "\n",
    "# set system parameters\n",
    "J = 1 \n",
    "k = 2\n",
    "b = 1\n",
    "\n",
    "# construct arrays to define numerator and denominator. Use powers of s: a_3s^3 + a_2s^2 + a_1s + a_0 \n",
    "# corresponds to array: [a_3, a_2, a_1, a_0]\n",
    "num = np.array([k])\n",
    "den = np.array([J, b, k, 0])\n",
    "\n",
    "# generate the data\n",
    "N = 10000   #number of points\n",
    "Tf = 20     #time in seconds of simulation\n",
    "t = np.linspace(0,Tf,N)\n",
    "\n",
    "fig, ax, theta_2 = enel441_step_response(num, den, t)"
   ]
  },
  {
   "cell_type": "markdown",
   "id": "8e2a970d",
   "metadata": {
    "slideshow": {
     "slide_type": "slide"
    }
   },
   "source": [
    "# Characteristics of a step response (Transient Response)\n",
    "\n",
    "![Step Response Characteristics](step-response.png \"Step Response Characteristics\")"
   ]
  },
  {
   "cell_type": "markdown",
   "id": "563837c8",
   "metadata": {
    "slideshow": {
     "slide_type": "fragment"
    }
   },
   "source": [
    "# In Class Activity!\n",
    "- add a function that calculates and plots the rise time\n",
    "- add a function that calculates and plot the maximum overshoot\n",
    "- add a function that draws (approximate) bounds on the settling time\n",
    "- add a function that calculates the settling time"
   ]
  },
  {
   "cell_type": "code",
   "execution_count": 34,
   "id": "204050f6",
   "metadata": {
    "slideshow": {
     "slide_type": "fragment"
    }
   },
   "outputs": [
    {
     "name": "stdout",
     "output_type": "stream",
     "text": [
      "Rise Time = 0s\n",
      "Peak Time = 0.0s\n",
      "Peak Overshoot = 0%\n",
      "Settling Time = 0.0s\n"
     ]
    },
    {
     "data": {
      "image/png": "[encoded data removed]",
      "text/plain": [
       "<Figure size 640x480 with 1 Axes>"
      ]
     },
     "metadata": {},
     "output_type": "display_data"
    }
   ],
   "source": [
    "# set system parameters\n",
    "J = 1 \n",
    "k = 2\n",
    "b = 1\n",
    "\n",
    "# construct arrays to define numerator and denominator. Use powers of s: a_3s^3 + a_2s^2 + a_1s + a_0 \n",
    "# corresponds to array: [a_3, a_2, a_1, a_0]\n",
    "num = np.array([k])\n",
    "den = np.array([J, b, k, 0])\n",
    "\n",
    "# generate the data\n",
    "N = 10000   #number of points\n",
    "Tf = 20     #time in seconds of simulation\n",
    "t = np.linspace(0,Tf,N)\n",
    "\n",
    "fig, ax, theta_2 = enel441_step_response(num, den, t)\n",
    "\n",
    "def calc_rise_time(t, out_step, ax):\n",
    "    final_value = out_step[-1]\n",
    "    \n",
    "    # add your code here to calculate the following variables\n",
    "    # start_index = ?  # index when step response becomes greater than 10% of final value\n",
    "    # end_index = ?    # index when step response becomes greater than 90% of final value\n",
    "    # rise_time = ?    \n",
    "    \n",
    "    # stand-in variables so that the code will run. Delete the following three lines.\n",
    "    start_index = 0\n",
    "    end_index = 0\n",
    "    rise_time = 0\n",
    "    \n",
    "    ax.plot(t[start_index], out_step[start_index], 'k.')\n",
    "    ax.plot(t[end_index], out_step[end_index], 'k.')\n",
    "    \n",
    "    # uncomment to add annotations (when your function is ready)\n",
    "    #ax.plot([t[0], t[start_index]], [out_step[start_index], out_step[start_index]], 'k:')\n",
    "    #ax.plot([t[start_index], t[start_index]], [out_step[start_index], 0], 'k:')\n",
    "    #ax.plot([t[0], t[end_index]], [out_step[end_index], out_step[end_index]], 'k:')\n",
    "    #ax.plot([t[end_index], t[end_index]], [out_step[end_index], 0], 'k:')\n",
    "    \n",
    "    #ax.arrow(t[start_index], out_step[start_index], rise_time, 0, head_length = 0.1, head_width = 0.025, length_includes_head = True )\n",
    "    #ax.arrow(t[end_index], out_step[start_index], -rise_time, 0, head_length = 0.1, head_width = 0.025, length_includes_head = True )\n",
    "    \n",
    "    #ax.text(t[start_index] + rise_time/2, out_step[start_index] + 0.05, 'Tr', horizontalalignment='center')\n",
    "    return rise_time\n",
    "\n",
    "\n",
    "def calc_peak_overshoot(t, out_step, ax):\n",
    "    final_value = out_step[-1]\n",
    "    \n",
    "    # add your code here to calculate the following variables\n",
    "    # index_peak_overshoot = ?\n",
    "    # peak_overshoot = ?\n",
    "    # peak_overshoot_percent = ?\n",
    "    \n",
    "    # stand-in variables so that the code will run. Delete the following three lines.\n",
    "    index_peak_overshoot = 0    # index of the peak value of step response\n",
    "    peak_overshoot = 0          # max value of step response\n",
    "    peak_overshoot_percent = 0  \n",
    "        \n",
    "    ax.plot(t[index_peak_overshoot], peak_overshoot, 'k.')\n",
    "    \n",
    "    #uncomment to add annotations (when your function is ready)\n",
    "    #ax.plot([t[0], t[-1]], [final_value, final_value], 'k:')\n",
    "    #ax.plot([t[0], t[index_peak_overshoot]], [peak_overshoot, peak_overshoot], 'k:')\n",
    "    #ax.plot([t[index_peak_overshoot], t[index_peak_overshoot]], [peak_overshoot, 0], 'k:')\n",
    "    \n",
    "    #ax.arrow(t[index_peak_overshoot], final_value, 0, peak_overshoot-final_value, head_length = 0.1, head_width = 0.025, length_includes_head = True )\n",
    "    #ax.arrow(t[index_peak_overshoot], peak_overshoot, 0, -peak_overshoot+final_value, head_length = 0.1, head_width = 0.025, length_includes_head = True )\n",
    "    \n",
    "    #ax.text(t[index_peak_overshoot], final_value + (peak_overshoot-final_value)/2, 'PO', verticalalignment='center')\n",
    "    \n",
    "    return t[index_peak_overshoot], peak_overshoot_percent\n",
    "\n",
    "\n",
    "\n",
    "def calc_settling_time(t, out_step, ax):\n",
    "    final_value = out_step[-1]\n",
    "    \n",
    "    # add your code here to calculate the following variables\n",
    "    # index_settling_time = ?\n",
    "\n",
    "    # stand-in variables so that the code will run. Delete the following three lines.\n",
    "    index_settling_time = 0    # index of the 2% settling time of step response\n",
    "    \n",
    "    \n",
    "    ax.plot(t[index_settling_time], out_step[index_settling_time], 'k.')\n",
    "    \n",
    "    #uncomment to add annotations (when your function is ready)\n",
    "    #ax.plot([t[0], t[-1]], [0.98*final_value, 0.98*final_value], 'k:')\n",
    "    #ax.plot([t[0], t[-1]], [1.02*final_value, 1.02*final_value], 'k:')\n",
    "    #if out_step[index_settling_time] > final_value:\n",
    "    #    ax.text(t[index_settling_time], out_step[index_settling_time], 'Ts', verticalalignment='bottom')\n",
    "    #else:\n",
    "    #    ax.text(t[index_settling_time], out_step[index_settling_time], 'Ts', verticalalignment='top')\n",
    "    \n",
    "    return t[index_settling_time]\n",
    "\n",
    "\n",
    "\n",
    "rise_time = calc_rise_time(t, theta_2, ax)\n",
    "peak_time, peak_overshoot = calc_peak_overshoot(t, theta_2, ax)\n",
    "settling_time = calc_settling_time(t, theta_2, ax)\n",
    "\n",
    "print('Rise Time = ', rise_time, 's', sep='' )\n",
    "print('Peak Time = ', peak_time, 's', sep='' )\n",
    "print('Peak Overshoot = ', peak_overshoot, '%', sep='' )\n",
    "print('Settling Time = ', settling_time, 's', sep='' )"
   ]
  },
  {
   "cell_type": "markdown",
   "id": "ae10f352",
   "metadata": {},
   "source": [
    "# Poles and Zeros of a Transfer Function\n",
    "\n",
    "Can factor numerator and denominator of transfer function:\n",
    "\n",
    "$$\n",
    "\\begin{align*}\n",
    "\n",
    "\\end{align*}\n",
    "$$\n"
   ]
  },
  {
   "cell_type": "markdown",
   "id": "03069f93",
   "metadata": {
    "slideshow": {
     "slide_type": "slide"
    }
   },
   "source": [
    "# S-Plane Plot\n",
    "\n",
    "Plot"
   ]
  }
 ],
 "metadata": {
  "celltoolbar": "Slideshow",
  "kernelspec": {
   "display_name": "Python 3 (ipykernel)",
   "language": "python",
   "name": "python3"
  },
  "language_info": {
   "codemirror_mode": {
    "name": "ipython",
    "version": 3
   },
   "file_extension": ".py",
   "mimetype": "text/x-python",
   "name": "python",
   "nbconvert_exporter": "python",
   "pygments_lexer": "ipython3",
   "version": "3.10.8"
  }
 },
 "nbformat": 4,
 "nbformat_minor": 5
}
