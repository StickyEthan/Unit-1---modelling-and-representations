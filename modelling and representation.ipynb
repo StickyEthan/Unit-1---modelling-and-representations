{
 "cells": [
  {
   "attachments": {},
   "cell_type": "markdown",
   "metadata": {
    "slideshow": {
     "slide_type": "slide"
    }
   },
   "source": [
    "## Unit 1 - Modelling and Representations of Systems"
   ]
  },
  {
   "attachments": {},
   "cell_type": "markdown",
   "metadata": {
    "slideshow": {
     "slide_type": "slide"
    }
   },
   "source": [
    "# Outline\n",
    "- Modelling of electrical and mechanical systems\n",
    "    - Electric circuits with resistors, capacitors, inductors, op-amps\n",
    "    - Translational mechanical systems\n",
    "    - Rotational mechanical systems\n",
    "- Simulation of a system\n",
    "    - Response due to initial conditions\n",
    "    - Step response\n",
    "    - Response to any input\n",
    "- Representations\n",
    "    - Differential equation\n",
    "    - Transfer function\n",
    "    - State-Space equations\n",
    "    - Frequency domain\n",
    "- Characteristics of a system\n",
    "    - Settling Time\n",
    "    - Maximum overshoot\n",
    "    - Rise time\n",
    "    - Stability\n",
    "- Key Concept\n",
    "    - Poles\n",
    "    - Zeros\n",
    "- Plots\n",
    "    - S-Plane\n",
    "    - Bode\n",
    "\n",
    "\n"
   ]
  },
  {
   "cell_type": "markdown",
   "metadata": {
    "slideshow": {
     "slide_type": "slide"
    }
   },
   "source": [
    "# Modelling\n",
    ">'In a sense, there is an impenetrable but transparent screen between our world of mathematical descriptions and the real world. We can look through this window and compare certain aspects of the physical system with its mathematical description, but we can never establish any exact connection between them. The question of nature's susceptibility to mathematical description has some deep philosophical aspects, and in practical terms we have to take a more pragmatic view of models. **Our acceptance of models should thus be guided by \"usefulness\" rather than \"truth\"**.'\n",
    "\n",
    "                                                                                --Lennart Ljung\n",
    "\n",
    "![modelling](modelling.png \"Modelling\")\n",
    "![Lennart Ljung](ljung.jpg \"Lennart Ljung\")"
   ]
  },
  {
   "cell_type": "markdown",
   "metadata": {
    "slideshow": {
     "slide_type": "slide"
    }
   },
   "source": [
    "# Modelling Dynamical Systems\n",
    "It is amazing how many types of systems can be modelled using differential equations! \n",
    "\n",
    "| Electrical Circuits | Translational Mechanical <br>Systems | Rotational Mechanical <br>Systems | Thermal Systems | Hydrological Systems |\n",
    "| --- | --- | --- | --- | --- |\n",
    "| $v(t)$ - voltage <br>$q(t)$ - charge* | $f(t)$ - force <br>$x(t)$ - position | $T(t)$ - torque <br>$\\theta(t)$ - angle | xxx | xxx |\n",
    "| Capacitor <br>$v(t) = \\frac{1}{C}q(t)$ | Spring <br>$f(t) = Kx(t)$ | Spring <br>$T(t)=K\\theta(t)$ | xxx | xxx |\n",
    "| Resistor <br>$v(t) = R \\frac{\\text{d}q(t)}{\\text{dt}}$ | Damper <br>$f(t) = f_v\\frac{\\text{d}x(t)}{\\text{dt}}$ | Damper <br>$T(t)=D\\frac{\\text{d}\\theta(t)}{\\text{dt}}$ | xxx | xxx |\n",
    "| Inductor <br>$v(t) = L \\frac{\\text{d}^2q(t)}{\\text{dt}^2}$ | Mass <br>$f(t) = M\\frac{\\text{d}^2x(t)}{\\text{dt}^2}$ | Inertia <br>$T(t)=J\\frac{\\text{d}^2\\theta(t)}{\\text{dt}^2}$ | xxx | xxx |\n",
    "\n",
    "*recall that current is equal to moving charges, i.e. $i(t) = \\frac{\\text{d}q(t)}{\\text{dt}}$\n",
    "\n",
    "Plus many more systems: populations, radioactive decay, economics, chemical processes, biological processes, etc.\n",
    "\n",
    "# What is so special about differential equations? Why are they so common? \n",
    "\n",
    "I have not seen a very convincing answer to this question...\n",
    "- \"Time and space are continuous, therefore the equations governing changes in time and space should reflect this continuity\" on Stack Exchange (https://physics.stackexchange.com/questions/349226/why-differential-equations)\n",
    "- \"The fact that the behavior of models described by differential equations has the property of being *locally specified* explains their prevalence: in time, there is no *action at a distance*.\" from \"Introduction to Mathematical Systems Theory: A Behavioral Approach\" by Jan Willem Polderman and Jan C. Willems.\n",
    "\n",
    "\n"
   ]
  },
  {
   "cell_type": "markdown",
   "metadata": {
    "slideshow": {
     "slide_type": "slide"
    }
   },
   "source": [
    "# Modelling Rotational Mechanical Systems"
   ]
  },
  {
   "cell_type": "markdown",
   "metadata": {},
   "source": [
    "Rotating Disks:\n",
    "\n",
    "![Rotating Disk](Rotating_Disk_Galaxy.jpg \"Rotating Disk\")"
   ]
  },
  {
   "cell_type": "markdown",
   "metadata": {},
   "source": [
    "![1 Disk Graphic Diagram](1diskSimpleGraphic.png \"1 Disk Graphic Diagram\")\n",
    "\n",
    "A torque is applied to a thin flexible rod. A disk is attached to the rod. The rod is supported by bearings on the left side of the disk. The angular position of the rod at both ends is measured. \n",
    "\n",
    "We will:\n",
    "- Obtain governing differential equations,\n",
    "- Investigate effect of initial conditions on the setup,\n",
    "- Derive the transfer function between angular position of the rod at the left side ($\\theta_1$) and angular position of the rod at the right side ($\\theta_2$),\n",
    "- Analyze pole-zero map, \n",
    "- Analyze step response of system,\n",
    "- See how to simulate the output of the system for any input using Python.\n"
   ]
  },
  {
   "cell_type": "markdown",
   "metadata": {},
   "source": [
    "# Schematic Diagram \n",
    "![1 Disk Schematic Diagram](1diskSimpleSchematic.png \"1 Disk Schematic Diagram\")\n"
   ]
  },
  {
   "cell_type": "markdown",
   "metadata": {
    "vscode": {
     "languageId": "latex"
    }
   },
   "source": [
    "# Free Body Diagram\n",
    "![1 Disk Free Body Diagram](1diskSimpleFreeBody.png \"1 Disk Free Body Diagram\")\n"
   ]
  },
  {
   "cell_type": "markdown",
   "metadata": {},
   "source": [
    "Expressions for torques:\n",
    "$$\n",
    "\\begin{align*}\n",
    "T_{S} & = k( \\theta_1 - \\theta_2 ) \\\\\n",
    "T_{B} &= b \\frac{\\text{d}\\theta_1}{\\text{dt}} \\\\\n",
    "\\end{align*}\n",
    "$$"
   ]
  },
  {
   "cell_type": "markdown",
   "metadata": {},
   "source": [
    "$$\n",
    "\\begin{align*}\n",
    "\\sum_i T_i &= J \\frac{\\text{d}^2 \\theta_2}{\\text{dt}^2} \\\\\n",
    "T_{S_1} - T_{B1} &= J \\frac{\\text{d}^2 \\theta_2}{\\text{dt}^2} \\\\\n",
    "k(\\theta_1 - \\theta_2) - b \\frac{\\text{d} \\theta_2}{\\text{dt}} &= J \\frac{\\text{d}^2 \\theta_2}{\\text{dt}^2}\n",
    "\\end{align*}\n",
    "$$\n",
    "After rearanging:\n",
    "$$\n",
    "\\begin{align*}\n",
    "k \\theta_1 = J \\frac{\\text{d}^2 \\theta_2}{\\text{dt}^2} + b \\frac{\\text{d} \\theta_2}{\\text{dt}} + k \\theta_2\n",
    "\\end{align*}\n",
    "$$\n",
    "\n",
    "This is the governing differential equation of the system! It is a model of the system. "
   ]
  },
  {
   "cell_type": "markdown",
   "metadata": {},
   "source": [
    "To start, let's calculate the unforced response (i.e. keep $\\theta_1=0$). \n",
    "\n",
    "The unforced response of a system is purely due to initial conditions. In our example we can twist the disk to an initial starting position, and then let go. \n",
    "\n",
    "Recall from MATH 375 or AMAT 307 that the solution to this type of equation has the form $e^{at}$.\n",
    "\n",
    "Plug $\\theta_2(t) = e^{at}$ into the equation:"
   ]
  },
  {
   "cell_type": "markdown",
   "metadata": {},
   "source": [
    "$$\n",
    "\\begin{align*}\n",
    "J \\frac{\\text{d}^2}{\\text{dt}^2}e^{at} + b\\frac{\\text{d}}{\\text{dt}}e^{at} + k e^{at} &= 0 \\\\\n",
    "Ja^2e^{at} + bae^{at} + ke^{at} &= 0 \\\\\n",
    "(Ja^2 + b a + k)e^{at} &= 0 \\\\\n",
    "(a-p_1)(a - p_2)e^{at} &= 0\n",
    "\\end{align*}\n",
    "$$"
   ]
  },
  {
   "cell_type": "markdown",
   "metadata": {},
   "source": [
    "We obtain the general solution:\n",
    "$$\n",
    "\\begin{align*}\n",
    "\\theta_2(t) = c_1 e^{p_1 t} + c_2 e^{p_2 t}\n",
    "\\end{align*}\n",
    "$$\n",
    "To find the particular solution (i.e. solve for $c_1$ and $c_2$), need to know the initial conditions.\n",
    "\n",
    "For dynamical systems, usually the initial conditions have the form: \n",
    "- position at time $t=0$ is known,\n",
    "- velocity at time $t=0$ is known.\n",
    "\n",
    "So in our case:\n",
    "- $\\theta_2(0)$ is known\n",
    "- $\\theta_2'(0)$ is known\n",
    "\n",
    "\n"
   ]
  },
  {
   "cell_type": "markdown",
   "metadata": {},
   "source": [
    "Use these initial conditions to find the particular solution (i.e. solve for $c_1$ and $c_2$). \n",
    "\n",
    "Hint: start with general solution, and plug in $t=0$."
   ]
  },
  {
   "cell_type": "markdown",
   "metadata": {},
   "source": [
    "$$\n",
    "\\begin{align*}\n",
    "\\theta_2(t) &= c_1 e^{p_1 t} + c_2 e^{p_2 t}\n",
    "\\end{align*}\n",
    "$$\n",
    "Plug in $t=0$:\n",
    "$$\n",
    "\\begin{align*}\n",
    "\\theta_2(0) &= c_1 + c_2 \n",
    "\\end{align*}\n",
    "$$\n",
    "This gives us one equation. \n",
    "\n",
    "Now, take derivative of general solution, and plug in $t=0$ to get second equation."
   ]
  },
  {
   "cell_type": "markdown",
   "metadata": {},
   "source": [
    "$$\n",
    "\\begin{align*}\n",
    "\\frac{\\text{d}}{\\text{dt}} \\theta_2(t) &= \\frac{\\text{d}}{\\text{dt}} \\Big ( c_1 e^{p_1 t} + c_2 e^{p_2 t} \\Big )\n",
    "&= c_1 p_1 e^{p_1 t} + c_2 p_2 e^{p_2 t} \n",
    "\\end{align*}\n",
    "$$\n",
    "Plug in $t=0$:\n",
    "$$\n",
    "\\begin{align*}\n",
    "\\theta_2'(0) &= c_1p_1 + c_2p_2 \n",
    "\\end{align*}\n",
    "$$\n",
    "This gives us another equation. \n",
    "\n",
    "So we have 2 equations, 2 unknowns and $c_1$ and $c_2$ appear linearly. Can use linear algebra to solve for $c_1$ and $c_2$. \n",
    "\n",
    "Set up the linear equations:"
   ]
  },
  {
   "cell_type": "markdown",
   "metadata": {},
   "source": [
    "$$\n",
    "\\begin{align*}\n",
    "\\begin{bmatrix} 1 & 1 \\\\ p_1 & p_2 \\end{bmatrix}\n",
    "\\begin{bmatrix} c_1 \\\\ c_2 \\end{bmatrix}\n",
    "=\n",
    "\\begin{bmatrix} \\theta_2(0) \\\\ \\theta_2'(0) \\end{bmatrix}\n",
    "\\end{align*}\n",
    "$$\n",
    "And we can solve for $c_1$ and $c_2$:\n",
    "$$\n",
    "\\begin{align*}\n",
    "\\begin{bmatrix} c_1 \\\\ c_2 \\end{bmatrix}\n",
    "=\n",
    "\\begin{bmatrix} 1 & 1 \\\\ p_1 & p_2 \\end{bmatrix}^{-1}\n",
    "\\begin{bmatrix} \\theta_2(0) \\\\ \\theta_2'(0) \\end{bmatrix}\n",
    "\\end{align*}\n",
    "$$\n",
    "\n"
   ]
  },
  {
   "cell_type": "markdown",
   "metadata": {},
   "source": [
    "# In class activity!\n",
    "\n",
    "Let's put it all together in Python!\n",
    "- Simulate some responses to different initial conditions.\n",
    "- Change the parameters of the system (spring constant and damping) to see effect on system response."
   ]
  },
  {
   "cell_type": "code",
   "execution_count": 2,
   "metadata": {},
   "outputs": [],
   "source": [
    "import scipy as sp\n",
    "import numpy as np\n",
    "import matplotlib.pyplot as plt\n",
    "import math\n"
   ]
  },
  {
   "cell_type": "code",
   "execution_count": null,
   "metadata": {},
   "outputs": [],
   "source": [
    "# specify parameters\n",
    "b = 1\n",
    "J = 2\n",
    "k = 1\n",
    "\n",
    "#specify initial conditions\n",
    "theta2_0 = math.pi/6\n",
    "dtheta2_0 = 0\n",
    "\n",
    "# find roots of characteristic equation\n",
    "characteristic_equation = np.array([J, b, k])\n",
    "r = np.roots(characteristic_equation)\n",
    "\n",
    "print('Roots of characteristic equation: ', '{:.2f}'.format(r[0]), ' and ', '{:.2f}'.format(r[1]), sep='')\n",
    "\n",
    "#find coeficients of general solution using initial conditions\n",
    "initial_conditions = np.array([theta2_0, dtheta2_0])\n",
    "A = np.array([[1, 1], [r[0], r[1]]])\n",
    "coefficients = np.linalg.inv(A) @ initial_conditions  #note @ means matrix multiply in python\n",
    "\n",
    "print('Particular solution is: ', '{:.2f}'.format(coefficients[0]), 'exp(', '{:.2f}'.format(r[0]), 't) +', '{:.2f}'.format(coefficients[1]), 'exp(', '{:.2f}'.format(r[1]), 't)')\n",
    "\n",
    "# plot the solution\n",
    "N = 10000   #number of points\n",
    "Tf = 20     #time in seconds of simulation\n",
    "\n",
    "# generate the data\n",
    "t = np.linspace(0,Tf,N)\n",
    "theta_2 = coefficients[0]*np.exp(r[0]*t) + coefficients[1]*np.exp(r[1]*t)\n",
    "fig, ax = plt.subplots(1,1)\n",
    "ax.plot(t,theta_2.real)\n",
    "ax.set_title(r'Response of $\\theta_2$ to Initial Conditions')\n",
    "ax.set_xlabel('Time (s)')\n",
    "ax.set_ylabel(r'$\\theta_2$')\n",
    "\n",
    "plt.show()\n"
   ]
  },
  {
   "cell_type": "markdown",
   "metadata": {},
   "source": [
    "# So far we have learned:\n",
    "- Rotational mechanical systems can be modelled using differential equations\n",
    "- The differential equation can be solved using standard analysis learned in MATH 375 or AMAT 307\n",
    "- Initial conditions of the system have physical meaning\n",
    "- Settling time\n",
    "\n",
    "Solving differential equations in this way is tedious, however, we could do it. \n",
    "\n",
    "On the other hand over time people have come up with helpful tools that either:\n",
    "- simplify the task of solving differential equations (for example: Laplace)\n",
    "- give extra insight (for example: Fourier)\n",
    "- or both! \n",
    "\n",
    "\n"
   ]
  },
  {
   "cell_type": "markdown",
   "metadata": {},
   "source": [
    "# Laplace Transforms, Transfer Functions and S-Plane Plots\n",
    "\n",
    "Recall the following properties of the Laplace transform:\n",
    "$$\n",
    "\\begin{align*}\n",
    "\\mathcal{L}[f'(t)] &= sF(s) - f(0) \\\\\n",
    "\\mathcal{L}[f''(t)] &= s^2F(s) -sf(0) - f(0)'\n",
    "\\end{align*}\n",
    "$$\n",
    "Using these properties, take the Laplace transform the governing differential equation that we derived earlier:\n",
    "$$\n",
    "\\begin{align*}\n",
    "k \\theta_1 = J \\frac{\\text{d}^2 \\theta_2}{\\text{dt}^2} + b \\frac{\\text{d} \\theta_2}{\\text{dt}} + k \\theta_2\n",
    "\\end{align*}\n",
    "$$\n"
   ]
  },
  {
   "cell_type": "markdown",
   "metadata": {},
   "source": [
    "Take Laplace transform of both sides:\n",
    "$$\n",
    "\\begin{align*}\n",
    "\\mathcal{L}[k \\theta_1(t)] &= \\mathcal{L}\\Big[ J \\frac{\\text{d}^2 \\theta_2(t)}{\\text{dt}^2} + b \\frac{\\text{d} \\theta_2(t)}{\\text{dt}} + k \\theta_2(t) \\Big] \\\\\n",
    "k \\Theta_1(s) &= J s^2 \\Theta_2(s) + b s \\Theta_2(s) + k \\Theta_2(s) - J s \\theta_2(0) -J \\theta_2'(0) - k \\theta_2(0)\n",
    "\\end{align*}\n",
    "$$\n",
    "Gather terms and find expression for $\\Theta_2(s)$:\n",
    "$$\n",
    "\\begin{align*}\n",
    "\\Theta_2(s) = \\underbrace{\\frac{k}{Js^2 + bs+k}}_{\\text{Transfer Function}}\\Theta_1(s) + \\underbrace{\\frac{Js\\theta_2(0) + J \\theta_2'(0) + k \\theta_2(0)}{Js^2 + bs+k}}_{\\text{Response due to initial conditions}}\n",
    "\\end{align*}\n",
    "$$"
   ]
  },
  {
   "cell_type": "markdown",
   "metadata": {},
   "source": [
    "# Step Response\n",
    "\n",
    "Let the input, in this case $\\theta_1(t)$, be a step. \n",
    "\n",
    "Step function defined as:\n",
    "$$\n",
    "\\begin{align*}\n",
    "1(t) = \\begin{cases}\n",
    "0 & \\text{if $t\\le0$}, \\\\\n",
    "1 & \\text{if $t>0$}.\n",
    "\\end{cases}\n",
    "\\end{align*}\n",
    "$$\n",
    "\n",
    "What is the Laplace transform of a step? \n"
   ]
  },
  {
   "cell_type": "markdown",
   "metadata": {},
   "source": []
  },
  {
   "cell_type": "markdown",
   "metadata": {},
   "source": [
    "$$\n",
    "\\begin{align*}\n",
    "\\mathcal{L}[1(t)] = \\frac{1}{s}\n",
    "\\end{align*}\n",
    "$$"
   ]
  },
  {
   "cell_type": "code",
   "execution_count": 18,
   "metadata": {},
   "outputs": [
    {
     "data": {
      "text/plain": [
       "Text(0, 0.5, '$\\\\theta_2$')"
      ]
     },
     "execution_count": 18,
     "metadata": {},
     "output_type": "execute_result"
    },
    {
     "data": {
      "image/png": "[encoded data removed]",
      "text/plain": [
       "<Figure size 640x480 with 1 Axes>"
      ]
     },
     "metadata": {},
     "output_type": "display_data"
    }
   ],
   "source": [
    "import enel441_utilities as eu\n",
    "import importlib\n",
    "\n",
    "importlib.reload(eu)\n",
    "\n",
    "def eval_poly(poly, k):\n",
    "    n = poly.shape[0] - 1\n",
    "\n",
    "    p_at_k = 0\n",
    "    for ii in range(n+1):\n",
    "        p_at_k += poly[ii]*k**(n-ii)\n",
    "    \n",
    "    return p_at_k\n",
    "\n",
    "\n",
    "def enel441_partial_fraction_expansion(num, den):\n",
    "    ## returns partial fraction expansion. This function cannot deal with repeated poles. I will fail in that case.\n",
    "\n",
    "    poles = np.roots(den)\n",
    "    num_poles = poles.shape[0]\n",
    "    coeff = np.zeros(num_poles, dtype=np.csingle)\n",
    "\n",
    "    for ii in range(num_poles):\n",
    "        nn = eval_poly(num, poles[ii])\n",
    "        dd = 1\n",
    "        for jj in range(num_poles):\n",
    "            if ii != jj:\n",
    "                dd *= (poles[ii] - poles[jj])\n",
    "        \n",
    "        coeff[ii] = nn/dd\n",
    "    return poles, coeff\n",
    "\n",
    "\n",
    "\n",
    "\n",
    "# set system parameters\n",
    "J = 1 \n",
    "k = 2\n",
    "b = 1\n",
    "\n",
    "# construct arrays to define numerator and denominator. Use powers of s: a_3s^3 + a_2s^2 + a_1s + a_0 corresponds to array: [a_3, a_2, a_1, a_0]\n",
    "num = np.array([k])\n",
    "den = np.array([J, b, k, 0])\n",
    "\n",
    "poles, coefficients = enel441_partial_fraction_expansion(num, den)\n",
    "\n",
    "# generate the data\n",
    "N = 10000   #number of points\n",
    "Tf = 20     #time in seconds of simulation\n",
    "t = np.linspace(0,Tf,N)\n",
    "\n",
    "# Plot the step reponse (assume initial conditions are zero)\n",
    "theta_2 = coefficients[0]*np.exp(poles[0]*t) + coefficients[1]*np.exp(poles[1]*t) + coefficients[2]*np.exp(poles[2]*t)\n",
    "fig, ax = plt.subplots(1,1)\n",
    "ax.plot(t,theta_2.real)\n",
    "ax.set_title(r'Step response of $\\theta_2$')\n",
    "ax.set_xlabel('Time (s)')\n",
    "ax.set_ylabel(r'$\\theta_2$')\n",
    "\n",
    "### In class activity:\n",
    "# - add a function that calculates and plots the rise time\n",
    "# - add a function that calculates and plot the maximum overshoot\n",
    "# - add a function that draws (approximate) bounds on the settling time\n",
    "# - add a function that calculates the settling time\n"
   ]
  },
  {
   "cell_type": "code",
   "execution_count": 6,
   "metadata": {},
   "outputs": [],
   "source": [
    "def s_plane_plot(num_sys, den_sys, fig=[], ax=[]):\n",
    "    if not fig: \n",
    "        fig, ax = plt.subplots(1,1)\n",
    "    \n",
    "    poles_sys = np.roots(den_sys)\n",
    "    for pp in poles_sys:\n",
    "        ax.plot(np.real(pp), np.imag(pp), 'bx' )\n",
    "\n",
    "    zeros_sys = np.roots(num_sys)\n",
    "    for zz in zeros_sys:\n",
    "        ax.plot(np.real(zz), np.imag(zz), 'ro')\n",
    "\n",
    "    plt.xlim(np.min(np.real(poles_sys))-0.5, np.max(np.real(poles_sys))+0.5)\n",
    "    x_left, x_right = plt.xlim()\n",
    "\n",
    "    if x_right < 0.5:\n",
    "        x_right = 0.5\n",
    "\n",
    "    if x_left > -0.5:\n",
    "        x_left = -0.5\n",
    "\n",
    "    plt.xlim(x_left, x_right)\n",
    "    ax.grid(True)\n",
    "    ax.spines['left'].set_position('zero')\n",
    "    # turn off the right spine/ticks\n",
    "    ax.spines['right'].set_color('none')\n",
    "    ax.yaxis.tick_left()\n",
    "    # set the y-spine\n",
    "    ax.spines['bottom'].set_position('zero')\n",
    "\n",
    "    # turn off the top spine/ticks\n",
    "    ax.spines['top'].set_color('none')\n",
    "    ax.xaxis.tick_bottom()\n",
    "    ax.set_title('S-Plane Plot')\n",
    "    ax.set_xlabel('Real[s]')\n",
    "    ax.set_ylabel('Imag[s]')\n",
    "\n",
    "    ax.xaxis.set_label_coords(0.5,-0.01)\n",
    "    ax.yaxis.set_label_coords(-0.01,0.5)\n",
    "    return fig, ax\n",
    "\n"
   ]
  },
  {
   "cell_type": "code",
   "execution_count": null,
   "metadata": {},
   "outputs": [],
   "source": [
    "# s-plane plot\n",
    "den_sys = np.array([J, b, k])\n",
    "num_sys = np.array([k])\n",
    "fig, ax = s_plane_plot(num_sys,den_sys)"
   ]
  },
  {
   "cell_type": "markdown",
   "metadata": {},
   "source": [
    "# In class activity\n",
    "\n",
    "Select a set of systems, with poles along a vertical line in the s-plane. Make sure you pick a vertical line that ends up with stable systems. Plot the step-responses of each system on the same plot. What do you notice about the step responses? "
   ]
  },
  {
   "cell_type": "code",
   "execution_count": 7,
   "metadata": {},
   "outputs": [
    {
     "data": {
      "text/plain": [
       "<matplotlib.patches.FancyArrow at 0x299fc1dc070>"
      ]
     },
     "execution_count": 7,
     "metadata": {},
     "output_type": "execute_result"
    },
    {
     "data": {
      "image/png": "[encoded data removed]",
      "text/plain": [
       "<Figure size 640x480 with 1 Axes>"
      ]
     },
     "metadata": {},
     "output_type": "display_data"
    }
   ],
   "source": [
    "def roots_to_polynomial(roots_poly):\n",
    "    poly = np.array([1])\n",
    "    for rr in roots_poly:\n",
    "        poly = np.convolve(poly, np.array([1, -rr]))\n",
    "    return np.real(poly)\n",
    "\n",
    "\n",
    "# pick three polynomials with roots on the same vertical line\n",
    "roots1 = np.array([-0.5+0.25j, -0.5-0.25j])\n",
    "roots2 = np.array([-0.5+0.50j, -0.5-0.50j])\n",
    "roots3 = np.array([-0.5+0.75j, -0.5-0.75j])\n",
    "den1 = roots_to_polynomial(roots1)\n",
    "den2 = roots_to_polynomial(roots2)\n",
    "den3 = roots_to_polynomial(roots3)\n",
    "num = np.array([1])\n",
    "\n",
    "fig, ax = s_plane_plot(num,den1)\n",
    "fig, ax = s_plane_plot(num,den2, fig, ax)\n",
    "fig, ax = s_plane_plot(num,den3, fig, ax)\n",
    "ax.arrow(-0.5, 0.25, 0, 0.6, linestyle='--',head_width=0.01, head_length=0.05, fc='k')\n",
    "ax.arrow(-0.5, -0.25, 0, -0.6, linestyle='--',head_width=0.01, head_length=0.05, fc='k')"
   ]
  },
  {
   "cell_type": "markdown",
   "metadata": {},
   "source": [
    "Now, select a set of systems with poles along a horizontal line in the s-plane. Make sure you pick a line that ends up with stable systems. Plot the step-responses of each system on the same plot. What do you notice about the step responses? "
   ]
  },
  {
   "cell_type": "code",
   "execution_count": null,
   "metadata": {},
   "outputs": [],
   "source": [
    "# pick three polynomials with roots on the same vertical line\n",
    "roots1 = np.array([-0.25+0.5j, -0.25-0.5j])\n",
    "roots2 = np.array([-0.5+0.5j, -0.5-0.5j])\n",
    "roots3 = np.array([-0.75+0.5j, -0.75-0.5j])\n",
    "den1 = roots_to_polynomial(roots1)\n",
    "den2 = roots_to_polynomial(roots2)\n",
    "den3 = roots_to_polynomial(roots3)\n",
    "num = np.array([1])\n",
    "\n",
    "fig, ax = s_plane_plot(num,den1)\n",
    "fig, ax = s_plane_plot(num,den2, fig, ax)\n",
    "fig, ax = s_plane_plot(num,den3, fig, ax)\n",
    "ax.arrow(-0.25, 0.5, -0.6, 0, linestyle='--',head_width=0.01, head_length=0.05, fc='k')\n",
    "ax.arrow(-0.25, -0.5, -0.6, 0, linestyle='--',head_width=0.01, head_length=0.05, fc='k')"
   ]
  },
  {
   "cell_type": "code",
   "execution_count": null,
   "metadata": {},
   "outputs": [],
   "source": [
    "# pick three polynomials with roots on the same diagonal line\n",
    "roots1 = np.array([-0.25+0.25j, -0.25-0.25j])\n",
    "roots2 = np.array([-0.5+0.5j, -0.5-0.5j])\n",
    "roots3 = np.array([-0.75+0.75j, -0.75-0.75j])\n",
    "den1 = roots_to_polynomial(roots1)\n",
    "den2 = roots_to_polynomial(roots2)\n",
    "den3 = roots_to_polynomial(roots3)\n",
    "num = np.array([1])\n",
    "\n",
    "fig, ax = s_plane_plot(num,den1)\n",
    "fig, ax = s_plane_plot(num,den2, fig, ax)\n",
    "fig, ax = s_plane_plot(num,den3, fig, ax)\n",
    "ax.arrow(-0.25, 0.25, -0.6, 0.6, linestyle='--',head_width=0.01, head_length=0.05, fc='k')\n",
    "ax.arrow(-0.25, -0.25, -0.6, -0.6, linestyle='--',head_width=0.01, head_length=0.05, fc='k')"
   ]
  },
  {
   "attachments": {},
   "cell_type": "markdown",
   "metadata": {},
   "source": [
    "This is important, because sometimes requirements of a control system are stated in terms of rise time, settling time and/or maximum overshoot. \n",
    "\n",
    "For second order systems, we have mapped these requirements to an area in the s-plane. Thus we know that any system with-in a certain area will meet the specified requirements! \n",
    "\n",
    "See video for exact equations.\n",
    "\n",
    "In a few weeks, we will be using controllers to \"place\" the poles of a system anywhere in the s-plane. Now we know where we want to place them!\n",
    "\n",
    "However, these equations only hold for second order systems. Most systems are higher order... What now?\n",
    "\n"
   ]
  },
  {
   "attachments": {},
   "cell_type": "markdown",
   "metadata": {},
   "source": [
    "The step response for an $n$th order system is:\n",
    "$$\n",
    "\\begin{align*}\n",
    "C(s) = \\frac{c_0}{s} + \\sum_k^n \\frac{c_k}{s+a_k},\n",
    "\\end{align*}\n",
    "$$\n",
    "where\n",
    "- $\\frac{1}{s}$ is the response due to the step,\n",
    "- $c_1, c_2, \\ldots$ are the coefficients of the partial fraction expansion (can be complex),\n",
    "- $a_1, a_2, \\ldots$ are the poles of the transfer function (can be complex).\n",
    "Note: if $c_1$, $c_2$, $\\ldots$ are complex, then they always appear in complex conjugate pairs. Same for the poles. \n",
    "\n",
    "Taking inverse Laplace transform:\n",
    "$$\n",
    "\\begin{align*}\n",
    "c(t) &= c_0u(t) + \\sum_k^n c_k e^{-a_kt} \\\\\n",
    "&= c_0 u(t) + \\underbrace{\\sum_m c_m e^{-a_m t}}_{\\text{all $a_m$ are real}} + \\underbrace{\\sum_p 2 r_p e^{- \\alpha t}\\cos( \\beta t - \\theta)}_{\\text{response due to imaginary poles}}\n",
    "\\end{align*}\n",
    "$$\n",
    "where \n",
    "- $a_k = \\alpha_k + j \\beta_k$ (pole expressed in real and imaginary parts), \n",
    "- $c_k = r_k e^{j \\theta_k}$ (partial fraction coefficient expressed in polar coordinates)\n",
    "\n"
   ]
  },
  {
   "attachments": {},
   "cell_type": "markdown",
   "metadata": {},
   "source": [
    "# In Class Activity\n",
    "\n",
    "Dominance of a particular decaying exponential is governed by 2 features:\n",
    "- is the decaying exponential slow compared to the rest of the poles (What does slow mean?)\n",
    "- magnitude of the partial fraction expansion coefficient (what does this depend on?)\n",
    "\n",
    "Interestingly: placing a zero close to a pole reduces the magnitude of the partial fraction expansion coefficient. \n",
    "\n",
    "Generate several step responses for systems with different pole/zero combinations. \n",
    "- Generate systems with dominant poles, and then add zeros to reduce the effect of the dominant poles. \n",
    "- Generate systems with dominate poles, add poles with faster dynamics. What happens?\n"
   ]
  },
  {
   "cell_type": "code",
   "execution_count": 48,
   "metadata": {},
   "outputs": [
    {
     "name": "stdout",
     "output_type": "stream",
     "text": [
      "Numerator: [1]\n",
      "Denominator: [  1.     5.    37.25  46.   123.25   0.  ]\n",
      "Poles: [-2. +5.j -2. -5.j -0.5+2.j -0.5-2.j  0. +0.j]\n",
      "Coeff: [ 0.00038127-0.00067283j  0.00038127+0.00067283j -0.00443807+0.00241033j\n",
      " -0.00443807-0.00241033j  0.00811359+0.j        ]\n",
      "offset: 0.00811359\n",
      "pole: 0j\n",
      "Plotting step response\n"
     ]
    },
    {
     "data": {
      "image/png": "[encoded data removed]",
      "text/plain": [
       "<Figure size 640x480 with 1 Axes>"
      ]
     },
     "metadata": {},
     "output_type": "display_data"
    }
   ],
   "source": [
    "import enel441_utilities as eu\n",
    "import importlib\n",
    "\n",
    "importlib.reload(eu)\n",
    "\n",
    "def enel441_plot_step_response_bounds_per_pole(num, den, t, ax):\n",
    "    poles, coefficients = enel441_partial_fraction_expansion(num, den)\n",
    "    num_poles = poles.shape[0]\n",
    "\n",
    "    resp_poles = np.zeros((N,num_poles))\n",
    "    pole_strs = []\n",
    "    jj = 0\n",
    "    is_step_resp = False\n",
    "    for ii in range(num_poles):\n",
    "        if np.abs(poles[ii]) > 1e-10:\n",
    "            resp_poles[:,jj] = 2*np.abs(coefficients[ii])*np.exp(np.real(poles[ii])*t)  # bound is due to real portion of pole only\n",
    "            pole_strs.append('{:.2f}'.format(poles[ii]))\n",
    "            jj += 1\n",
    "        else: \n",
    "            offset = np.abs(coefficients[ii])\n",
    "            is_step_resp = True\n",
    "    \n",
    "    if is_step_resp:\n",
    "        print('Plotting step response')\n",
    "        for ii in range(num_poles-1):\n",
    "            ax.plot(t, resp_poles[:,ii]+offset, '--', color='C'+str(ii), label='p='+pole_strs[ii])\n",
    "            ax.plot(t, -resp_poles[:,ii]+offset, '--', color='C'+str(ii))\n",
    "    else:\n",
    "        print('Printing impulse response')\n",
    "        for ii in range(num_poles):\n",
    "            ax.plot(t, resp_poles[:,ii], '--', color='C'+str(ii), label='p='+pole_strs[ii])\n",
    "            ax.plot(t, -resp_poles[:,ii], '--', color='C'+str(ii))\n",
    "\n",
    "\n",
    "    ax.legend()    \n",
    "\n",
    "\n",
    "poles_array = np.array([-0.5+2j, -0.5-2j, -2+5j, -2-5j, 0])\n",
    "#poles_array = np.array([-0.5+1.32j, -0.5-1.32j, 0])\n",
    "#poles_array = np.array([-0.5+2j, -0.5-2j, 0])\n",
    "zeros_array1 = np.array([])\n",
    "zeros_array2 = np.array([-2])\n",
    "zeros_array3 = np.array([-2+0.1j, -2-0.1j])\n",
    "den = roots_to_polynomial(poles_array)\n",
    "#den = np.array([1, 1, 2, 0])\n",
    "num1 = roots_to_polynomial(zeros_array1)\n",
    "num2 = roots_to_polynomial(zeros_array2)\n",
    "num3 = roots_to_polynomial(zeros_array3)\n",
    "\n",
    "# Calculate partial fraction expansion to see effect of placing zeros near poles\n",
    "poles1, coeff1 = eu.enel441_partial_fraction_expansion(num1, den)\n",
    "print('Numerator:', num1)\n",
    "print('Denominator:', den)\n",
    "print('Poles:', poles1)\n",
    "print('Coeff:', coeff1)\n",
    "fig, ax, out_step = eu.enel441_step_response(num1, den, t)\n",
    "enel441_plot_step_response_bounds_per_pole(num1, den, t, ax)\n",
    "\n",
    "\n",
    "#poles2, coeff2 = eu.enel441_partial_fraction_expansion(num2, den)\n",
    "#print('Numerator:', num2)\n",
    "#print('Denominator:', den)\n",
    "#print('Poles:', poles2)\n",
    "#print('Coeff:', coeff2)\n",
    "\n",
    "#poles3, coeff3 = eu.enel441_partial_fraction_expansion(num3, den)\n",
    "#print('Numerator:', num3)\n",
    "#print('Denominator:', den)\n",
    "#print('Poles:', poles3)\n",
    "#print('Coeff:', coeff3)\n"
   ]
  },
  {
   "attachments": {},
   "cell_type": "markdown",
   "metadata": {},
   "source": [
    "# In Class Activity\n",
    "Place a zero in the left half plane. What happens to the step response? What looks different?\n",
    "\n",
    "This is called a non-minimum phase zero. "
   ]
  },
  {
   "cell_type": "code",
   "execution_count": null,
   "metadata": {},
   "outputs": [],
   "source": [
    "# code here"
   ]
  },
  {
   "cell_type": "markdown",
   "metadata": {},
   "source": [
    "# Simulate system for a given input\n",
    "\n",
    "Now we want to be able to simulate the response of the system to any input. \n",
    "\n",
    "This becomes tedious using Laplace transforms. Luckily, there are built-in functions in python that can help us!\n"
   ]
  },
  {
   "cell_type": "code",
   "execution_count": null,
   "metadata": {},
   "outputs": [],
   "source": [
    "# set system parameters\n",
    "J = 1 \n",
    "k = 2\n",
    "b = 1\n",
    "\n",
    "den_sys = np.array([J, b, k])\n",
    "num_sys = np.array([k])\n",
    "\n",
    "N = 10000\n",
    "dt = 1/1000\n",
    "t = np.linspace(0,dt*N,N)\n",
    "\n",
    "# make a step input\n",
    "u_step = np.ones((N))\n",
    "\n",
    "# make a rectangular pulse input\n",
    "n_pulse = 1000     #width of pulse in number of steps of size dt\n",
    "u_pulse = np.zeros(N)\n",
    "u_pulse[0:n_pulse] = np.ones((n_pulse))\n",
    "\n",
    "# make an input that is a single sinusoid\n",
    "f = 1   #frequency of sinusoid\n",
    "theta = math.pi/6\n",
    "u_sinusoid = np.sin(2*math.pi*f*t + theta)\n",
    "\n",
    "# make an input that is random\n",
    "u_rand = np.random.randn(N)\n",
    "\n",
    "# simulate the system output for selected input signal (note initial conditions are assumed to be zero)\n",
    "u = u_sinusoid\n",
    "tout, yout, xout = sp.signal.lsim((num_sys,den_sys),U=u,T=t)\n",
    "\n",
    "# plot the response\n",
    "fig, ax = plt.subplots(1,1)\n",
    "ax.plot(t, u, label='input')\n",
    "ax.plot(tout, yout, label='output')\n",
    "ax.set_title('Response of System')\n",
    "ax.set_xlabel('Time (s)')\n",
    "ax.set_ylabel('Angle (rad)')\n",
    "plt.legend()\n",
    "\n",
    "plt.show()\n",
    "\n",
    "\n",
    "\n",
    "\n"
   ]
  },
  {
   "cell_type": "markdown",
   "metadata": {},
   "source": [
    "# Activity\n",
    "- Look at response of multi-sines, ramps, triangle waves, noise + pulse, noise + sinusoid, others?\n",
    "- Try different system parameters\n",
    "\n",
    "# Observations\n",
    "- What do you notice about the sinusoidal inputs?\n",
    "- How does linearity play a role when predicting the output of a pulse?"
   ]
  },
  {
   "cell_type": "markdown",
   "metadata": {},
   "source": [
    "# Look at another system"
   ]
  },
  {
   "cell_type": "markdown",
   "metadata": {},
   "source": [
    "![2 Disk Graphic Diagram](2diskGraphic.png \"2 Disk Graphic Diagram\")\n",
    "\n",
    "A torque is applied by a motor to a system with two disks. The disks are connected by a thin flexible rod. The rod is supported by bearings on both sides of the disks. The torque applied by the motor is known. The angular position of the right disk is measured. \n",
    "\n",
    "We will:\n",
    "- Obtain governing differential equations,\n",
    "- Investigate frequency response of system and understand what a resonance is,\n",
    "- Construct the frequency response using the physical system,\n",
    "- Derive and analyze a state-space representation\n"
   ]
  },
  {
   "cell_type": "markdown",
   "metadata": {},
   "source": [
    "# Schematic Diagram\n",
    "![2 Disk Schematic Diagram](2diskSchematic.png \"2 Disk Schematic Diagram\")"
   ]
  },
  {
   "cell_type": "markdown",
   "metadata": {},
   "source": [
    "# Free Body Diagram\n",
    "![2 Disk Free Body Diagram](2diskFreeBody.png \"2 Disk Free Body Diagram\")"
   ]
  },
  {
   "cell_type": "code",
   "execution_count": null,
   "metadata": {},
   "outputs": [],
   "source": []
  },
  {
   "cell_type": "markdown",
   "metadata": {},
   "source": [
    "# In class activity\n",
    "\n",
    "Derive the governing differential equations for each disk. You should end up with two differential equations, one for each disk.\n",
    "\n",
    "Recall the expressions for torques:\n",
    "$$\n",
    "\\begin{align*}\n",
    "\\text{Bearings: \\hspace{1cm} } & T_{B} = b \\frac{\\text{d}\\theta}{\\text{dt}} \\\\\n",
    "\\text{Springs: \\hspace{1cm}} & T_S = k( \\theta_1 - \\theta_2 ) \\\\\n",
    "\\end{align*}\n",
    "$$"
   ]
  },
  {
   "cell_type": "markdown",
   "metadata": {},
   "source": [
    "For the 2-Disk system, the expressions for torques are:\n",
    "$$\n",
    "\\begin{align*}\n",
    " T_{B_1} &= b_1 \\frac{\\text{d}\\theta_1}{\\text{dt}} \\\\\n",
    "T_S & = k( \\theta_1 - \\theta_2 ) \\\\\n",
    "T_{B_2}  &= b_2 \\frac{\\text{d}\\theta_2}{\\text{dt}}\n",
    "\\end{align*}\n",
    "$$"
   ]
  },
  {
   "cell_type": "markdown",
   "metadata": {},
   "source": [
    "\n",
    "\n",
    "Two masses, so two equations:\n",
    "$$ \n",
    "\\begin{align*}\n",
    "\\sum_i T_i = J_1 \\frac{\\text{d}^2 \\theta_1}{\\text{dt}^2} \\hspace{1cm} \\text{and} \\hspace{1cm} \\sum_i T_i = J_2 \\frac{\\text{d}^2 \\theta_2}{\\text{dt}^2} \n",
    "\\end{align*}\n",
    "$$\n",
    "\n",
    "\n",
    "\n",
    "\n"
   ]
  },
  {
   "cell_type": "markdown",
   "metadata": {},
   "source": [
    "First mass:\n",
    "$$\n",
    "\\begin{align*}\n",
    "T_M-T_{B_1} - T_{s}&= J_1 \\frac{\\text{d}^2 \\theta_1}{\\text{dt}^2} \\\\\n",
    "T_M - b_1 \\frac{\\text{d}\\theta_1}{\\text{dt}} - k( \\theta_1 - \\theta_2 ) &= J_1 \\frac{\\text{d}^2 \\theta_1}{\\text{dt}^2} \\\\\n",
    "J_1 \\frac{\\text{d}^2 \\theta_1}{\\text{dt}^2} + b_1 \\frac{\\text{d}\\theta_1}{\\text{dt}} + k\\theta_1 - k\\theta_2 - T_M &= 0\n",
    "\\end{align*}\n",
    "$$"
   ]
  },
  {
   "cell_type": "markdown",
   "metadata": {},
   "source": [
    "Second mass:\n",
    "$$\n",
    "\\begin{align*}\n",
    "T_{s} - T_{B_2} &= J_2 \\frac{\\text{d}^2 \\theta_2}{\\text{dt}^2} \\\\\n",
    "k( \\theta_1 - \\theta_2 ) - b_2 \\frac{\\text{d}\\theta_2}{\\text{dt}} -  &= J_2 \\frac{\\text{d}^2 \\theta_2}{\\text{dt}^2} \\\\\n",
    "J_2 \\frac{\\text{d}^2 \\theta_2}{\\text{dt}^2} + b_2 \\frac{\\text{d}\\theta_2}{\\text{dt}} - k\\theta_1 + k\\theta_2 &= 0\n",
    "\\end{align*}\n",
    "$$"
   ]
  },
  {
   "cell_type": "markdown",
   "metadata": {},
   "source": [
    "# In Class Activity\n",
    "\n",
    "Using the two equations, find the transfer function from motor torque, $T_M$, to the angle of the second disk, $\\theta_2$. You can assume that the system is initially at rest (i.e. initial conditions are zero).\n",
    "\n",
    "Hint: this will require you to substitute one of the equations into the other. "
   ]
  },
  {
   "cell_type": "markdown",
   "metadata": {},
   "source": [
    "We are interested in the relationship between $T_M$ and $\\theta_2$. So, substitute expression for second mass into expression for first mass:\n",
    "$$\n",
    "\\begin{align*}\n",
    "\\frac{J_1J_2}{k}\\frac{\\text{d}^4\\theta_2}{\\text{dt}^4} + \\frac{J_1b + J_2b}{k}\\frac{\\text{d}^3\\theta_2}{\\text{dt}^3} + (J_1 + J_2 + \\frac{b^2}{k}) \\frac{\\text{d}^2\\theta_2}{\\text{dt}^2} + 2b\\frac{\\text{d}\\theta_2}{\\text{dt}}  &= T_M(t) \n",
    "\\end{align*}\n",
    "$$\n",
    "\n",
    "Take Laplace transform of both sides:\n",
    "$$\n",
    "\\begin{align*}\n",
    "\\frac{J_1J_2}{k}s^4\\Theta_2(s) + \\frac{J_1b + J_2b}{k}s^3\\Theta_2(s) + (J_1 + J_2 + \\frac{b^2}{k}) s^2\\Theta_2(s) + 2bs\\Theta_2(s) &= T_M(s) \n",
    "\\end{align*}\n",
    "$$\n",
    "Gather terms:\n",
    "$$\n",
    "\\begin{align*}\n",
    "\\frac{\\Theta(s)}{T_M(s)} = \\frac{1}{ \\frac{J_1J_2}{k}s^4 + \\frac{J_1b + J_2b}{k}s^3 + (J_1 + J_2 + \\frac{b^2}{k}) s^2 + 2bs}  \n",
    "\\end{align*}\n",
    "$$\n",
    "\n"
   ]
  },
  {
   "cell_type": "markdown",
   "metadata": {},
   "source": [
    "# In Class Activity\n",
    "\n",
    "- Simulate step response. What do you notice?\n",
    "- Try different parameters\n",
    "- Make S-plane plot (see code in second cell)\n"
   ]
  },
  {
   "cell_type": "code",
   "execution_count": null,
   "metadata": {},
   "outputs": [],
   "source": [
    "import scipy as sp\n",
    "import numpy as np\n",
    "import matplotlib.pyplot as plt\n",
    "\n",
    "\n",
    "# set system parameters\n",
    "J1 = 2\n",
    "J2 = 5\n",
    "k = 1\n",
    "b = 0.5\n",
    "\n",
    "# transfer function numerator and denominator (from equations)\n",
    "num_sys = np.array([1])\n",
    "den_sys = np.array([J1*J2/k, (J1+J2)*b/k, (J1+J2+b**2/k), 2*b, 0])\n",
    "\n",
    "# generate step response\n",
    "N = 10000\n",
    "dt = 1/1000\n",
    "t = np.linspace(0,dt*N,N)\n",
    "u = np.ones((N))\n",
    "tout, yout, xout = sp.signal.lsim((num_sys,den_sys),U=u,T=t)\n",
    "#tout,yout = sp.signal.step((B,A))\n",
    "\n",
    "fig, ax = plt.subplots(1,1)\n",
    "ax.plot(t,u, label='input')\n",
    "ax.plot(tout, yout, label='output')\n",
    "ax.set_title('Step Response of System')\n",
    "ax.set_xlabel('Time (s)')\n",
    "plt.legend()\n",
    "plt.show()"
   ]
  },
  {
   "cell_type": "code",
   "execution_count": null,
   "metadata": {},
   "outputs": [],
   "source": [
    "fig, ax = s_plane_plot(num_sys,den_sys)\n"
   ]
  },
  {
   "cell_type": "markdown",
   "metadata": {},
   "source": [
    "Poles in the right-hand plane result in unbounded outputs. Why? Hint: look at the time-domain expression of the Step Response.\n",
    "\n",
    "Poles in the right-hand plane are called unstable poles.  "
   ]
  },
  {
   "cell_type": "markdown",
   "metadata": {},
   "source": [
    "# State Space\n",
    "\n",
    "Large, multi-equation systems start to become tedious to put into transfer function form (requires substituting equations into each other). This can make the transfer function error-prone. \n",
    "\n",
    "The state space representation offers a nice alternative.\n",
    "\n",
    "The main idea is to reduce high-order differential equations into an equivalent set of first order differential equations. \n",
    "\n",
    "The state-space equations have the following form:\n",
    "$$\n",
    "\\begin{align*}\n",
    "\\frac{\\text{d}x(t)}{\\text{dt}} &= Ax(t) + Bu(t), \\\\\n",
    "y(t) &= C x(t) + D u(t),\n",
    "\\end{align*}\n",
    "$$\n",
    "where $A$, $B$, $C$, $D$ are constant matrices, and $x$ is called the state vector. \n",
    "\n",
    "Any linear system can be written in state-space form. It is just another representation of a system. \n",
    "\n",
    "Advantages of State-Space:\n",
    "- Multi-input, multi-output systems are much easier to handle! This is the advent of \"Modern\" control! Enables the possibility to control more complicated systems.\n",
    "- Easier to combine multiple differential equations into one expression (don't need to substitute equations into each other)\n",
    "- Can use linear algebra to find useful properties of the system (such as the poles)\n",
    "- high-order differential equations are reduced to first order differential equations, so writing down solutions is easier.\n",
    "\n",
    "You can always choose the states according to this rule:\n",
    "- For each differential equation, $D(x)=0$ of order $n$, choose $x$, $\\frac{\\text{d}x}{\\text{dt}}$, $\\ldots$, $\\frac{\\text{d}^{n-1}x}{\\text{dt}^n}$ as the states.\n",
    "\n",
    "Rudolf Kalman was one of the founders of modern control theory, establishing the state-space framework.\n",
    "![Rudolf Kalman](Rudolf-E-Kálmán.jpg \"Rudolf Kalman\")"
   ]
  },
  {
   "cell_type": "markdown",
   "metadata": {},
   "source": [
    "# State-Space representation of the 2-Disk system\n",
    "\n",
    "Start with the two second-order differential equations:\n",
    "$$\n",
    "\\begin{align*}\n",
    "J_1 \\frac{\\text{d}^2 \\theta_1}{\\text{dt}^2} + b_1 \\frac{\\text{d}\\theta_1}{\\text{dt}} + k\\theta_1 - k\\theta_2 - T_M &= 0\n",
    "\\end{align*}\n",
    "$$\n",
    "and\n",
    "$$\n",
    "\\begin{align*}\n",
    "J_2 \\frac{\\text{d}^2 \\theta_2}{\\text{dt}^2} + b_2 \\frac{\\text{d}\\theta_2}{\\text{dt}} - k\\theta_1 + k\\theta_2 &= 0\n",
    "\\end{align*}\n",
    "$$\n",
    "\n",
    "Choose the following states:\n",
    "- $x_1 = \\theta_1$,\n",
    "- $x_2 = \\frac{\\text{d}\\theta_1}{\\text{dt}}$,\n",
    "- $x_3 = \\theta_2$,\n",
    "- $x_4 = \\frac{\\text{d} \\theta_2}{\\text{dt}}$.\n",
    "\n",
    "Put them in a vector:\n",
    "$$\n",
    "\\begin{align*}\n",
    "x = \\begin{bmatrix} x_1 \\\\ x_2 \\\\ x_3 \\\\ x_4 \\end{bmatrix} =\n",
    "\\begin{bmatrix} \\theta_1 \\\\ \\frac{\\text{d}\\theta_1}{\\text{dt}} \\\\ \\theta_2 \\\\\n",
    "\\frac{\\text{d} \\theta_2}{\\text{dt}} \\end{bmatrix}  \n",
    "\\end{align*}\n",
    "$$\n",
    "\n",
    "We want to find an expression of the form:\n",
    "$$\n",
    "\\begin{align*}\n",
    "\\frac{\\text{d}x}{\\text{dt}} = A x + B u\n",
    "\\end{align*}\n",
    "$$\n",
    "\n",
    "\n"
   ]
  },
  {
   "cell_type": "markdown",
   "metadata": {},
   "source": [
    "# In Class Activity\n",
    "Re-write the differential equations in terms of the states.\n",
    "\n",
    "Hint #1:\n",
    "- The expression for $\\frac{\\text{d}x}{\\text{dt}}$ is:\n",
    "$$\n",
    "\\begin{align*}\n",
    "\\frac{\\text{d}x}{\\text{dt}} = \\begin{bmatrix} \\frac{\\text{d}x_1}{\\text{dt}} \\\\ \\frac{\\text{d}x_2}{\\text{dt}} \\\\ \\frac{\\text{d}x_3}{\\text{dt}} \\\\ \\frac{\\text{d}x_4}{\\text{dt}} \\end{bmatrix} = \n",
    " \\begin{bmatrix} \\frac{\\text{d}\\theta_1}{\\text{dt}} \\\\ \\frac{\\text{d}^2\\theta_1}{\\text{dt}^2} \\\\ \\frac{\\text{d} \\theta_2}{\\text{dt}} \\\\\n",
    "\\frac{\\text{d}^2 \\theta_2}{\\text{dt}^2} \\end{bmatrix}\n",
    "\\end{align*}\n",
    "$$\n",
    "\n",
    "Hint #2: Starting with the two differential equations, substitute derivatives with states:\n",
    "- $\\theta_1 = x_1$,\n",
    "- $\\frac{\\text{d}\\theta_1}{\\text{dt}} = x_2$,\n",
    "- $\\theta_2 = x_3$,\n",
    "- $\\frac{\\text{d} \\theta_2}{\\text{dt}} = x_4$.\n",
    "\n",
    "Hint #3: The input for this system is the motor torque, so $u(t) = T_M(t)$.\n"
   ]
  },
  {
   "cell_type": "markdown",
   "metadata": {},
   "source": [
    "Procedure: we need to find expressions for each of the terms in \n",
    "$$\n",
    "\\begin{align*}\n",
    "\\frac{\\text{d}x}{\\text{dt}} = \\begin{bmatrix} \\frac{\\text{d}x_1}{\\text{dt}} \\\\ \\frac{\\text{d}x_2}{\\text{dt}} \\\\ \\frac{\\text{d}x_3}{\\text{dt}} \\\\ \\frac{\\text{d}x_4}{\\text{dt}} \\end{bmatrix} = \n",
    " \\begin{bmatrix} \\frac{\\text{d}\\theta_1}{\\text{dt}} \\\\ \\frac{\\text{d}^2\\theta_1}{\\text{dt}^2} \\\\ \\frac{\\text{d} \\theta_2}{\\text{dt}} \\\\\n",
    "\\frac{\\text{d}^2 \\theta_2}{\\text{dt}^2} \\end{bmatrix}\n",
    "\\end{align*}\n",
    "$$\n",
    "in terms of the states $x_1$, $x_2$, $x_3$, $x_4$. Recall that the states are defined as:\n",
    "$$\n",
    "\\begin{align*}\n",
    "x = \\begin{bmatrix} x_1 \\\\ x_2 \\\\ x_3 \\\\ x_4 \\end{bmatrix} =\n",
    "\\begin{bmatrix} \\theta_1 \\\\ \\frac{\\text{d}\\theta_1}{\\text{dt}} \\\\ \\theta_2 \\\\\n",
    "\\frac{\\text{d} \\theta_2}{\\text{dt}} \\end{bmatrix}  \n",
    "\\end{align*}\n",
    "$$\n",
    "\n",
    "Let's find the expressions line by line.\n",
    "\n",
    "# Start with the first element. \n",
    "\n",
    "Need to find an expression for $\\frac{\\text{d}x_1}{\\text{dt}}$:\n",
    "$$\n",
    "\\begin{align*}\n",
    "\\frac{\\text{d}x_1}{\\text{dt}} = \\frac{\\text{d}\\theta_1}{\\text{dt}} = x_2\n",
    "\\end{align*}\n",
    "$$\n",
    "The last equality follows by definition of the states.\n",
    "\n",
    "# Second element\n",
    "\n",
    "Need to find an expression for $\\frac{\\text{d}x_2}{\\text{dt}}$:\n",
    "$$\n",
    "\\begin{align*}\n",
    "\\frac{\\text{d}x_2}{\\text{dt}} = \\frac{\\text{d}^2\\theta_1}{\\text{dt}^2} \n",
    "\\end{align*}\n",
    "$$\n",
    "Using the equation of Disk 1, we have an expression for $\\frac{\\text{d}^2\\theta_1}{\\text{dt}^2}$. \n",
    "$$\n",
    "\\begin{align*}\n",
    "J_1 \\frac{\\text{d}^2 \\theta_1}{\\text{dt}^2} + b_1 \\frac{\\text{d}\\theta_1}{\\text{dt}} + k\\theta_1 - k\\theta_2 - T_M &= 0 \n",
    "\\end{align*}\n",
    "$$\n",
    "Re-arrange:\n",
    "$$\n",
    "\\begin{align*}\n",
    "\\frac{\\text{d}^2 \\theta_1}{\\text{dt}^2} = - \\frac{b_1}{J_1} \\frac{\\text{d}\\theta_1}{\\text{dt}} - \\frac{k}{J_1} \\theta_1 + \\frac{k}{J_1}\\theta_2 + \\frac{1}{J_1} T_M \n",
    "\\end{align*}\n",
    "$$\n",
    "Substitute definitions of states:\n",
    "$$\n",
    "\\begin{align*}\n",
    "\\frac{\\text{d}x_2}{dt} = - \\frac{k}{J_1} x_1 - \\frac{b_1}{J_1} x_2 + \\frac{k}{J_1} x_3 + \\frac{1}{J_1} u\n",
    "\\end{align*}\n",
    "$$\n",
    "\n",
    "# Third element. \n",
    "\n",
    "Need to find an expression for $\\frac{\\text{d}x_3}{\\text{dt}}$:\n",
    "$$\n",
    "\\begin{align*}\n",
    "\\frac{\\text{d}x_3}{\\text{dt}} = \\frac{\\text{d}\\theta_2}{\\text{dt}} = x_4\n",
    "\\end{align*}\n",
    "$$\n",
    "The last equality follows by definition of the states.\n",
    "\n",
    "# Fourth element\n",
    "Need to find an expression for $\\frac{\\text{d}x_4}{\\text{dt}}$:\n",
    "$$\n",
    "\\begin{align*}\n",
    "\\frac{\\text{d}x_4}{\\text{dt}} = \\frac{\\text{d}^2\\theta_2}{\\text{dt}^2} \n",
    "\\end{align*}\n",
    "$$\n",
    "Using the equation of Disk 2, we have an expression for $\\frac{\\text{d}^2\\theta_2}{\\text{dt}^2}$. \n",
    "$$\n",
    "\\begin{align*}\n",
    "J_2 \\frac{\\text{d}^2 \\theta_2}{\\text{dt}^2} + b_2 \\frac{\\text{d}\\theta_2}{\\text{dt}} - k\\theta_1 + k\\theta_2 &= 0 \n",
    "\\end{align*}\n",
    "$$\n",
    "Rearrange:\n",
    "$$\n",
    "\\begin{align*}\n",
    "\\frac{\\text{d}^2 \\theta_2}{\\text{dt}^2} = -\\frac{b_2}{J_2} \\frac{\\text{d}\\theta_2}{\\text{dt}} + \\frac{k}{J_2} \\theta_1 - \\frac{k}{J_2} \\theta_2\n",
    "\\end{align*}\n",
    "$$\n",
    "Substitute definitions of states:\n",
    "$$\n",
    "\\begin{align*}\n",
    "\\frac{\\text{d} x_4}{\\text{dt}} =  \\frac{k}{J_2} x_1 - \\frac{k}{J_2} x_3  - \\frac{b_2}{J_2} x_4  \n",
    "\\end{align*}\n",
    "$$\n",
    "\n",
    "# Put it all together\n",
    "\n",
    "Now we can put together all the equations into the expression for $\\frac{\\text{d}x}{\\text{dt}}$:\n",
    "$$\n",
    "\\begin{align*}\n",
    "\\frac{\\text{d}x}{\\text{dt}} &= \\begin{bmatrix} \\frac{\\text{d}x_1}{\\text{dt}} \\\\ \\frac{\\text{d}x_2}{\\text{dt}} \\\\ \\frac{\\text{d}x_3}{\\text{dt}} \\\\ \\frac{\\text{d}x_4}{\\text{dt}} \\end{bmatrix} = \\begin{bmatrix} x_2 \\\\ - \\frac{k}{J_1} x_1 - \\frac{b_1}{J_1} x_2 + \\frac{k}{J_1} x_3 + u \\\\ x_4 \\\\ \\frac{k}{J_2} x_1 - \\frac{k}{J_2} x_3  - \\frac{b_2}{J_2} x_4 \\end{bmatrix} \\\\\n",
    "&= \\begin{bmatrix} \n",
    "0 & 1 & 0 & 0 \\\\ \n",
    "- \\frac{k}{J_1} & - \\frac{b_1}{J_1} & \\frac{k}{J_1} & 0 \\\\\n",
    "0 & 0 & 0 & 1 \\\\\n",
    "\\frac{k}{J_2} & 0 & \\frac{k}{J_2} & - \\frac{b_2}{J_2}\n",
    "\\end{bmatrix}\n",
    "\\begin{bmatrix} x_1 \\\\ x_2 \\\\ x_3 \\\\ x_4 \\end{bmatrix} +\n",
    "\\begin{bmatrix} 0 \\\\ \\frac{1}{J_1} \\\\ 0 \\\\ 0 \\end{bmatrix} u\n",
    "\\end{align*}\n",
    "$$\n",
    "\n",
    "This is the first half of the state space representation! So far we have:\n",
    "$$\n",
    "\\begin{align*}\n",
    "A = \\begin{bmatrix}\n",
    "0 & 1 & 0 & 0 \\\\ \n",
    "- \\frac{k}{J_1} & - \\frac{b_1}{J_1} & \\frac{k}{J_1} & 0 \\\\\n",
    "0 & 0 & 0 & 1 \\\\\n",
    "\\frac{k}{J_2} & 0 & -\\frac{k}{J_2} & - \\frac{b_2}{J_2}\n",
    "\\end{bmatrix}\n",
    "\\text{\\hspace{1cm} and \\hspace{1cm}}\n",
    "B = \\begin{bmatrix} 0 \\\\ \\frac{1}{J_1} \\\\ 0 \\\\ 0 \\end{bmatrix}\n",
    "\\end{align*}\n",
    "$$"
   ]
  },
  {
   "cell_type": "markdown",
   "metadata": {},
   "source": [
    "Now we need to derive the second half of the state-space representation:\n",
    "$$\n",
    "\\begin{align*}\n",
    "y(t) = Cx(t) + D u(t)\n",
    "\\end{align*}\n",
    "$$\n",
    "\n"
   ]
  },
  {
   "cell_type": "markdown",
   "metadata": {},
   "source": [
    "# In Class Activity\n",
    "\n",
    "Derive the second half of the state-space representation for the 2-Disk system. \n",
    "\n",
    "Hint: $y(t) = \\theta_2(t)$. \n",
    "\n"
   ]
  },
  {
   "cell_type": "markdown",
   "metadata": {},
   "source": [
    "Note that $\\theta_2$ is one of the states! \n",
    "\n",
    "So we have:\n",
    "$$\n",
    "\\begin{align*}\n",
    "y = \\theta_2 = x_3 \n",
    "\\end{align*}\n",
    "$$\n",
    "\n",
    "In matrix form:\n",
    "$$\n",
    "\\begin{align*}\n",
    "y = \\begin{bmatrix} 0 & 0 & 1 & 0 \\end{bmatrix}\n",
    "\\begin{bmatrix} x_1 \\\\ x_2 \\\\ x_3 \\\\ x_4 \\end{bmatrix}\n",
    "\\end{align*}\n",
    "$$\n",
    "\n",
    "We have completed our state-space representation of the 2-Disk system!\n",
    "$$\n",
    "\\begin{align*}\n",
    "A &= \\begin{bmatrix}\n",
    "0 & 1 & 0 & 0 \\\\ \n",
    "- \\frac{k}{J_1} & - \\frac{b_1}{J_1} & \\frac{k}{J_1} & 0 \\\\\n",
    "0 & 0 & 0 & 1 \\\\\n",
    "\\frac{k}{J_2} & 0 & \\frac{k}{J_2} & - \\frac{b_2}{J_2}\n",
    "\\end{bmatrix} \\\\\n",
    "B &= \\begin{bmatrix} 0 \\\\ \\frac{1}{J_1} \\\\ 0 \\\\ 0 \\end{bmatrix} \\\\\n",
    "C &= \\begin{bmatrix} 0 & 0 & 1 & 0 \\end{bmatrix} \\\\\n",
    "D &= 0\n",
    "\\end{align*}\n",
    "$$\n",
    "\n",
    "# Comment\n",
    "\n",
    "We did not do anything very special, just re-organizing, re-labelling and gathering of the variables in the equations.\n"
   ]
  },
  {
   "cell_type": "markdown",
   "metadata": {},
   "source": [
    "# In Class Activity\n",
    "\n",
    "Use the procedure from the video to calculate the response due to initial conditions.\n",
    "\n",
    "Note that because of the way that we derived the state space representation, the initial conditions make physical sense. Look back at the transfer function we wrote down, what can we say about the initial conditions in that case?"
   ]
  },
  {
   "cell_type": "code",
   "execution_count": null,
   "metadata": {},
   "outputs": [],
   "source": [
    "# set system parameters\n",
    "J1 = 2\n",
    "J2 = 10\n",
    "k = 1\n",
    "b = 0.5\n",
    "\n",
    "# define state space matrices\n",
    "A = np.array([[0, 1, 0, 0], [-k/J1, -b/J1, k/J1, 0], [0, 0, 0, 1], [k/J2, 0, -k/J2, -b/J2]]) \n",
    "B = np.array([[0], [1/J1], [0], [0]])\n",
    "C = np.array([[0, 0, 1, 0]])\n",
    "D = 0\n",
    "\n",
    "# eigenvalue decomposition of A matrix\n",
    "Lambda, T = np.linalg.eig(A)\n",
    "\n",
    "# compare eigenvalues with roots calculated earlier\n",
    "#print('Roots calculated from transfer function:', np.roots(den_sys))\n",
    "np.set_printoptions(precision=2, suppress=True)\n",
    "print('Eigenvalues of the A matrix', Lambda)\n",
    "\n",
    "# verfiy that the matrix T diagonalizes A\n",
    "print(np.linalg.inv(T) @ A @ T)\n",
    "\n",
    "# transform system matrices so that the A matrix is diagonal\n",
    "A_tilde = np.linalg.inv(T) @ A @ T\n",
    "B_tilde = np.linalg.inv(T) @ B\n",
    "C_tilde = C @ T\n",
    "D_tilde = D\n",
    "\n",
    "# Calculate response to initial conditions\n",
    "\n",
    "# initial condition\n",
    "x_initial = np.array([[1], [0], [-0.5], [0]])\n",
    "x_tilde_initial = np.linalg.inv(T) @ x_initial\n",
    "\n",
    "# generate data\n",
    "N = 10000\n",
    "dt = 1/100\n",
    "t = np.linspace(0,dt*N,N)\n",
    "y = np.zeros(N, dtype=np.csingle)\n",
    "ii = 0\n",
    "for pp in Lambda:\n",
    "    y += C_tilde[0,ii] * np.exp(pp*t) * x_tilde_initial[ii,0]\n",
    "    ii += 1\n",
    "   \n",
    "fig, ax = plt.subplots(1,1)\n",
    "ax.plot(t, np.real(y), label='output')\n",
    "ax.set_title('Response of System Due to Initial Conditions')\n",
    "ax.set_xlabel('Time (s)')\n",
    "ax.set_ylabel('Angle')\n",
    "\n",
    "plt.show()"
   ]
  },
  {
   "cell_type": "markdown",
   "metadata": {},
   "source": [
    "# In Class Activity\n",
    "\n",
    "Superimpose the decay-rate of all the poles on the plot. \n",
    "\n",
    "Try systems with different poles. Which poles best approximate the settling-time of the system?"
   ]
  },
  {
   "cell_type": "code",
   "execution_count": 9,
   "metadata": {},
   "outputs": [
    {
     "data": {
      "image/png": "[encoded data removed]",
      "text/plain": [
       "<Figure size 640x480 with 1 Axes>"
      ]
     },
     "metadata": {},
     "output_type": "display_data"
    }
   ],
   "source": [
    "# set system parameters\n",
    "J1 = 2\n",
    "J2 = 10\n",
    "k = 1\n",
    "b = 0.5\n",
    "\n",
    "# define state space matrices\n",
    "A = np.array([[0, 1, 0, 0], [-k/J1, -b/J1, k/J1, 0], [0, 0, 0, 1], [k/J2, 0, -k/J2, -b/J2]]) \n",
    "B = np.array([[0], [1/J1], [0], [0]])\n",
    "C = np.array([[0, 0, 1, 0]])\n",
    "D = 0\n",
    "\n",
    "# eigenvalue decomposition of A matrix\n",
    "Lambda, T = np.linalg.eig(A)\n",
    "\n",
    "A_tilde = np.linalg.inv(T) @ A @ T\n",
    "B_tilde = np.linalg.inv(T) @ B\n",
    "C_tilde = C @ T\n",
    "D_tilde = D\n",
    "\n",
    "# Calculate response to initial conditions\n",
    "\n",
    "# initial condition\n",
    "x_initial = np.array([[1], [0], [-0.5], [0]])\n",
    "x_tilde_initial = np.linalg.inv(T) @ x_initial\n",
    "\n",
    "# calculate response\n",
    "N = 10000\n",
    "dt = 1/100\n",
    "t = np.linspace(0,dt*N,N)\n",
    "y = np.zeros(N, dtype=np.csingle)\n",
    "ii = 0\n",
    "for pp in Lambda:\n",
    "    y += C_tilde[0,ii] * np.exp(pp*t) * x_tilde_initial[ii,0]\n",
    "    ii += 1\n",
    "\n",
    "# calucate the maximum contribution to the response by each pole (what is up with the offset? Can you explain it?)\n",
    "resp_poles = np.zeros((N,3))\n",
    "pole_strs = []\n",
    "jj = 0\n",
    "for ii in range(4):\n",
    "    if np.abs(Lambda[ii]) > 1e-10:\n",
    "        resp_poles[:,jj] = np.abs(C_tilde[0,ii]*x_tilde_initial[ii,0])*np.exp(np.real(Lambda[ii])*t) \n",
    "        pole_strs.append('{:.2f}'.format(Lambda[ii]))\n",
    "        jj += 1\n",
    "    else:\n",
    "        offset = np.abs(C_tilde[0,ii]*x_tilde_initial[ii,0])\n",
    "    \n",
    "fig, ax = plt.subplots(1,1)\n",
    "ax.plot(t, np.real(y), label='output')\n",
    "for ii in range(3):\n",
    "    ax.plot(t, resp_poles[:,ii]+offset, '--', color='C'+str(ii), label='p='+pole_strs[ii])\n",
    "    ax.plot(t, -resp_poles[:,ii]+offset, '--', color='C'+str(ii))\n",
    "#ax.plot(t,np.sum(resp_poles,axis=1))\n",
    "#ax.plot(t,-np.sum(resp_poles,axis=1))\n",
    "#ax.plot(t, -resp_pole1, '--', label='p1')\n",
    "ax.set_title('Response of System Due to Initial Conditions')\n",
    "ax.set_xlabel('Time (s)')\n",
    "ax.set_ylabel('Angle')\n",
    "ax.legend()\n",
    "plt.show()"
   ]
  },
  {
   "cell_type": "markdown",
   "metadata": {},
   "source": [
    "# Dominant Poles\n",
    "\n",
    "If the ratios of the real parts of the poles exceed 5 and there are no zeros nearby, then the poles nearest the $j \\omega$ axis dominate the transient response behavior."
   ]
  },
  {
   "cell_type": "markdown",
   "metadata": {},
   "source": [
    "# In Class Activity\n",
    "\n",
    "Plot the response of the 2-disk system to various inputs."
   ]
  },
  {
   "cell_type": "code",
   "execution_count": null,
   "metadata": {},
   "outputs": [],
   "source": [
    "# set system parameters\n",
    "J1 = 2\n",
    "J2 = 10\n",
    "k = 1\n",
    "b = 0.5\n",
    "\n",
    "# define state space matrices\n",
    "A = np.array([[0, 1, 0, 0], [-k/J1, -b/J1, k/J1, 0], [0, 0, 0, 1], [k/J2, 0, -k/J2, -b/J2]]) \n",
    "B = np.array([[0], [1/J1], [0], [0]])\n",
    "C = np.array([[0, 0, 1, 0]])\n",
    "D = 0\n",
    "\n",
    "# make a step input\n",
    "u_step = np.ones((N))\n",
    "\n",
    "# make a rectangular pulse input\n",
    "n_pulse = 1000     #width of pulse in number of steps of size dt\n",
    "u_pulse = np.zeros(N)\n",
    "u_pulse[0:n_pulse] = np.ones((n_pulse))\n",
    "\n",
    "# make an input that is a single sinusoid\n",
    "f = 0.1   #frequency of sinusoid\n",
    "theta = 0 #math.pi/6\n",
    "u_sinusoid = np.sin(2*math.pi*f*t + theta)\n",
    "\n",
    "# make an input that is random\n",
    "u_rand = np.random.randn(N)\n",
    "\n",
    "# simulate the system output for selected input signal (note initial conditions are assumed to be zero)\n",
    "u = u_sinusoid\n",
    "N = 10000\n",
    "dt = 1/100\n",
    "t = np.linspace(0,dt*N,N)\n",
    "tout, yout, xout = sp.signal.lsim((A, B, C, D),U=u,T=t)\n",
    "\n",
    "# plot the response\n",
    "fig, ax = plt.subplots(1,1)\n",
    "ax.plot(t, u, label='input')\n",
    "ax.plot(tout, yout, label='output')\n",
    "ax.set_title('Response of System')\n",
    "ax.set_xlabel('Time (s)')\n",
    "ax.set_ylabel( 'Angle' )\n",
    "plt.show()"
   ]
  },
  {
   "cell_type": "markdown",
   "metadata": {},
   "source": [
    "# Frequency Domain Representation\n",
    "\n"
   ]
  },
  {
   "cell_type": "code",
   "execution_count": null,
   "metadata": {},
   "outputs": [],
   "source": [
    "def my_fourier_transform(num,den,omega):\n",
    "    N = omega.shape[0]\n",
    "    G_jw = np.zeros(N,dtype=np.csingle)\n",
    "       \n",
    "    ii = 0\n",
    "    for w in omega:\n",
    "        jomega = 1j*w\n",
    "        num_jw = 0\n",
    "        jj = num.shape[0] - 1\n",
    "        for nn in num:\n",
    "            num_jw += nn*(jomega**jj)\n",
    "            jj -= 1\n",
    "        \n",
    "        den_jw = 0\n",
    "        jj = den.shape[0] - 1\n",
    "        for dd in den:\n",
    "            den_jw += dd*(jomega**jj)\n",
    "            jj -= 1\n",
    "        #print(den_jw)\n",
    "        #print(num_jw)\n",
    "        G_jw[ii] = num_jw/den_jw\n",
    "        ii += 1\n",
    "    return G_jw\n",
    "\n",
    "def find_nearest(arr, value):\n",
    "    idx = (np.abs(arr - value)).argmin()\n",
    "    return idx\n",
    "\n",
    "# set system parameters\n",
    "J1 = 2\n",
    "J2 = 5\n",
    "k = 1\n",
    "b = 0.5\n",
    "\n",
    "# transfer function numerator and denominator (from equations)\n",
    "# construct arrays to define numerator and denominator. \n",
    "# Use powers of s: a_3s^3 + a_2s^2 + a_1s + a_0 corresponds to array: [a_3, a_2, a_1, a_0]\n",
    "\n",
    "#num_sys = np.array(np.convolve(np.array([1, 5]), np.array([1, 10])))\n",
    "#den_sys = np.array(np.convolve(np.array([1, 7]), np.array([1, 3])))\n",
    "num_sys = np.array([2, 7])\n",
    "den_sys = np.array([1, 2, 5])\n",
    "\n",
    "\n",
    "roots_den = np.roots(den_sys)\n",
    "roots_num = np.roots(num_sys)\n",
    "den_corner_freqs = np.abs(roots_den)\n",
    "num_corner_freqs = np.abs(roots_num)\n",
    "\n",
    "# calculate DC offset\n",
    "dc_offset = num_sys[0]/den_sys[0]\n",
    "for rr in roots_den:\n",
    "    dc_offset /= rr\n",
    "\n",
    "for rr in roots_num:\n",
    "    dc_offset *= rr\n",
    "\n",
    "dc_offset = 20*np.log10(np.abs(dc_offset))\n",
    "\n",
    "print(den_corner_freqs)\n",
    "print(num_corner_freqs)\n",
    "\n",
    "N = 1000\n",
    "omega_min = np.min( [np.min(den_corner_freqs), np.min(num_corner_freqs)] )\n",
    "omega_max = np.max( [np.max(den_corner_freqs), np.max(num_corner_freqs)] )\n",
    "omega = np.logspace(np.log10(omega_min/10),np.log10(omega_max*10),num=N)\n",
    "\n",
    "\n",
    "num_poles = roots_den.shape[0]\n",
    "num_zeros = roots_num.shape[0]\n",
    "\n",
    "pole_approx = np.zeros((N,num_poles))\n",
    "slope_neg = -20*np.log10(omega)\n",
    "ii = 0\n",
    "for cf in den_corner_freqs:\n",
    "    corner_idx = find_nearest(omega,cf)\n",
    "    pole_approx[corner_idx:N,ii] = slope_neg[corner_idx:N] - slope_neg[corner_idx]\n",
    "    ii += 1\n",
    "\n",
    "zero_approx = np.zeros((N,num_zeros))\n",
    "slope_pos = 20*np.log10(omega)\n",
    "ii = 0\n",
    "for cf in num_corner_freqs:\n",
    "    corner_idx = find_nearest(omega,cf)\n",
    "    zero_approx[corner_idx:N,ii] = slope_pos[corner_idx:N] - slope_pos[corner_idx]\n",
    "    ii += 1\n",
    "\n",
    "approx_response = np.sum(pole_approx, axis=1) + np.sum(zero_approx, axis=1) + dc_offset\n",
    "\n",
    "G_jw = my_fourier_transform(num_sys,den_sys,omega)\n",
    "\n",
    "fig, ax = plt.subplots(num_poles+num_zeros+1,1, figsize=(6.4,(num_poles+num_zeros+1)*2))\n",
    "for ii in range(num_poles):\n",
    "    ax[ii].semilogx(omega,pole_approx[:,ii], label='pole={:.2f}'.format(roots_den[ii]))\n",
    "    ax[ii].legend()\n",
    "    ax[ii].set_xlabel('Frequency (rad)')\n",
    "    ax[ii].set_title('Pole Approximation')\n",
    "\n",
    "for ii in range(num_zeros):\n",
    "    ax[num_poles+ii].semilogx(omega,zero_approx[:,ii], label='zero={:.2f}'.format(roots_num[ii]))\n",
    "    ax[num_poles+ii].legend()\n",
    "    ax[num_poles+ii].set_xlabel('Frequency (rad)')\n",
    "    ax[num_poles+ii].set_title('Zero Approximation')\n",
    "\n",
    "ax[num_poles+num_zeros].semilogx(omega,20*np.log10(np.absolute(G_jw)), label='Actual')\n",
    "ax[num_poles+num_zeros].semilogx(omega,approx_response, label='Approximation')\n",
    "ax[num_poles+num_zeros].set_title('Magnitude Response of System')\n",
    "ax[num_poles+num_zeros].set_xlabel('Frequency (rad)')\n",
    "ax[num_poles+num_zeros].set_ylabel('Magnitude (dB)')\n",
    "ax[num_poles+num_zeros].legend()\n",
    "\n",
    "#plt.subplots_adjust(wspace=1)\n",
    "fig.tight_layout(pad=1.5)\n",
    "plt.show()\n",
    "#ax[num_poles+num_zeros-1].semilogx(omega,np.angle(G_jw))"
   ]
  },
  {
   "cell_type": "code",
   "execution_count": null,
   "metadata": {},
   "outputs": [],
   "source": [
    "N = 10000\n",
    "dt = 1/1000\n",
    "t = np.linspace(0,dt*N,N)\n",
    "x0 = np.array([0,0])\n",
    "u = np.ones((N))\n",
    "B = np.array([1/J])\n",
    "A = np.array([1, b/J, 0])\n",
    "tout, yout, xout = sp.signal.lsim((B,A),U=u,T=t)\n",
    "#tout,yout = sp.signal.step((B,A))\n"
   ]
  },
  {
   "cell_type": "code",
   "execution_count": null,
   "metadata": {},
   "outputs": [],
   "source": [
    "print(np.log10(0.001))\n",
    "np.roots([1, 2, 5])"
   ]
  },
  {
   "cell_type": "code",
   "execution_count": null,
   "metadata": {},
   "outputs": [],
   "source": [
    "R1 = 0.5\n",
    "R2 = "
   ]
  }
 ],
 "metadata": {
  "kernelspec": {
   "display_name": "enel441",
   "language": "python",
   "name": "python3"
  },
  "language_info": {
   "codemirror_mode": {
    "name": "ipython",
    "version": 3
   },
   "file_extension": ".py",
   "mimetype": "text/x-python",
   "name": "python",
   "nbconvert_exporter": "python",
   "pygments_lexer": "ipython3",
   "version": "3.10.8"
  },
  "orig_nbformat": 4,
  "vscode": {
   "interpreter": {
    "hash": "aae2aa8d6042359e33b866bd60410f1e12f989f850a82b777f7146ee7b999886"
   }
  }
 },
 "nbformat": 4,
 "nbformat_minor": 2
}
